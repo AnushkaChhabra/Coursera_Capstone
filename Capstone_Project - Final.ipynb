{
  "nbformat": 4,
  "nbformat_minor": 0,
  "metadata": {
    "colab": {
      "name": "Capstone Project.ipynb",
      "provenance": [],
      "collapsed_sections": [],
      "toc_visible": true
    },
    "kernelspec": {
      "name": "python3",
      "display_name": "Python 3"
    }
  },
  "cells": [
    {
      "cell_type": "markdown",
      "metadata": {
        "id": "F1meJEUFLLiV",
        "colab_type": "text"
      },
      "source": [
        "# **Capstone Project - The Best Neighborhood to Live In**\n",
        "## **Table of Content**\n",
        "\n",
        "\n",
        "1.   Introduction: Business Problem\n",
        "2.   Data\n",
        "3.   Methodology\n",
        "4.   Results and Discussion\n",
        "5.   Conclusion\n",
        "\n"
      ]
    },
    {
      "cell_type": "markdown",
      "metadata": {
        "id": "HPrEv5WFMZeZ",
        "colab_type": "text"
      },
      "source": [
        "## **Introduction: Business Problem**\n",
        "\n",
        "When people are looking for a change of apartment, one of the most important\n",
        "deciding factors is the neighborhood.\n",
        "*   Some people might be on a budget while some might be looking for something luxurious\n",
        "*   A few families would prefer having schools nearby\n",
        "*   While, some just might be foodies who would love to have many restaurants near their house\n",
        "\n",
        "We will use our data science abilities to predict the most appropriate neighborhoods for people with the above mentioned preferences.\n",
        "\n",
        "Here, the **target audience would be people looking for apartments.**\n",
        "\n",
        "The factors which influence our problem are:\n",
        "\n",
        "\n",
        "1.   Number of schools in each neighborhood\n",
        "2.   Number of restaurants in each neighborhood\n",
        "3.   Budget of prospective tenant\n",
        "\n",
        "\n",
        "\n",
        "\n"
      ]
    },
    {
      "cell_type": "markdown",
      "metadata": {
        "id": "4dVV5e2Hjpvu",
        "colab_type": "text"
      },
      "source": [
        "## **Data**\n",
        "Following data sources have been used to extract/generate the required information:\n",
        "\n",
        "1.Foursquare API data: to obtain details of restaurants, schools etc. in each neighborhood\n",
        "\n",
        " 2.Dataset from Kaggle:https://catalog.data.gov/dataset/new-york-city-population-by-neighborhood-tabulation-areas-f2447 \n",
        " \n",
        " 3.https://www.kaggle.com/jackcook/neighborhoods-in-new-york/data : Will be using to obtain population statistics of neighborhood in New York\n",
        " \n",
        " 4.https://data.cityofnewyork.us/City-Government/Neighborhood-Tabulation-Areas-NTA-/cpf4-rkhq : To obtain geospatial data of neighborhood in New York.\n",
        "\n",
        "5.https://data.cityofnewyork.us/Housing-Development/Housing-New-York-Units-by-Building/hg8x-zxpr : To obtain information regarding housing units in New York\n"
      ]
    },
    {
      "cell_type": "markdown",
      "metadata": {
        "id": "5bLOK-OI8jLr",
        "colab_type": "text"
      },
      "source": [
        "Installing the required libraries"
      ]
    },
    {
      "cell_type": "code",
      "metadata": {
        "id": "Q7Vhi_taO2dG",
        "colab_type": "code",
        "outputId": "a31ad988-25da-43ae-c860-79e531fcc7c5",
        "colab": {
          "base_uri": "https://localhost:8080/",
          "height": 70
        }
      },
      "source": [
        "import requests # library to handle requests\n",
        "import pandas as pd # library for data analsysis\n",
        "import numpy as np # library to handle data in a vectorized manner\n",
        "import random # library for random number generation\n",
        "\n",
        "!conda install -c conda-forge geopy --yes \n",
        "from geopy.geocoders import Nominatim # module to convert an address into latitude and longitude values\n",
        "!conda install -c conda-forge folium=0.5.0 --yes\n",
        "import folium\n",
        "\n",
        "print('Folium installed and imported!')"
      ],
      "execution_count": 2,
      "outputs": [
        {
          "output_type": "stream",
          "text": [
            "/bin/bash: conda: command not found\n",
            "/bin/bash: conda: command not found\n",
            "Folium installed and imported!\n"
          ],
          "name": "stdout"
        }
      ]
    },
    {
      "cell_type": "markdown",
      "metadata": {
        "id": "HjGfydZabNM7",
        "colab_type": "text"
      },
      "source": [
        "Getting Coordinates of New York"
      ]
    },
    {
      "cell_type": "code",
      "metadata": {
        "id": "pLQZMP5Ea0K8",
        "colab_type": "code",
        "outputId": "d9134cb1-0d9c-447f-ae1d-2927a1200a4d",
        "colab": {
          "base_uri": "https://localhost:8080/",
          "height": 34
        }
      },
      "source": [
        "address = 'New York, NY'\n",
        "\n",
        "geolocator = Nominatim(user_agent=\"foursquare_agent\")\n",
        "geolocator = Nominatim(user_agent='foursquare_agent')\n",
        "location = geolocator.geocode(address)\n",
        "latitude = location.latitude\n",
        "longitude = location.longitude\n",
        "print('The coordinates of New York are',latitude ,longitude)"
      ],
      "execution_count": 4,
      "outputs": [
        {
          "output_type": "stream",
          "text": [
            "The coordinates of New York are 40.7127281 -74.0060152\n"
          ],
          "name": "stdout"
        }
      ]
    },
    {
      "cell_type": "markdown",
      "metadata": {
        "id": "wfrZJ3QIimb0",
        "colab_type": "text"
      },
      "source": [
        "The Map of New York"
      ]
    },
    {
      "cell_type": "code",
      "metadata": {
        "id": "NVThtldsPAQm",
        "colab_type": "code",
        "outputId": "7f788d75-bf05-48e6-e9f2-b91a96872169",
        "colab": {
          "base_uri": "https://localhost:8080/",
          "height": 674
        }
      },
      "source": [
        "nyc_map = folium.Map(location=[latitude,longitude], zoom_start=12 )\n",
        "nyc_map"
      ],
      "execution_count": 6,
      "outputs": [
        {
          "output_type": "execute_result",
          "data": {
            "text/html": [
              "<div style=\"width:100%;\"><div style=\"position:relative;width:100%;height:0;padding-bottom:60%;\"><iframe src=\"about:blank\" style=\"position:absolute;width:100%;height:100%;left:0;top:0;border:none !important;\" data-html=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 onload=\"this.contentDocument.open();this.contentDocument.write(atob(this.getAttribute('data-html')));this.contentDocument.close();\" allowfullscreen webkitallowfullscreen mozallowfullscreen></iframe></div></div>"
            ],
            "text/plain": [
              "<folium.folium.Map at 0x7fce7732aba8>"
            ]
          },
          "metadata": {
            "tags": []
          },
          "execution_count": 6
        }
      ]
    },
    {
      "cell_type": "code",
      "metadata": {
        "id": "SgBYsD2_P2iR",
        "colab_type": "code",
        "colab": {}
      },
      "source": [
        "#Dataset containing details about size of each neighborhood\n",
        "df = pd.read_csv('nynta.csv')"
      ],
      "execution_count": 0,
      "outputs": []
    },
    {
      "cell_type": "code",
      "metadata": {
        "id": "5Uys_JdbRWTB",
        "colab_type": "code",
        "outputId": "f2895c93-e33d-4e9f-862b-d7630baba91f",
        "colab": {
          "base_uri": "https://localhost:8080/",
          "height": 289
        }
      },
      "source": [
        "df.head()"
      ],
      "execution_count": 0,
      "outputs": [
        {
          "output_type": "execute_result",
          "data": {
            "text/html": [
              "<div>\n",
              "<style scoped>\n",
              "    .dataframe tbody tr th:only-of-type {\n",
              "        vertical-align: middle;\n",
              "    }\n",
              "\n",
              "    .dataframe tbody tr th {\n",
              "        vertical-align: top;\n",
              "    }\n",
              "\n",
              "    .dataframe thead th {\n",
              "        text-align: right;\n",
              "    }\n",
              "</style>\n",
              "<table border=\"1\" class=\"dataframe\">\n",
              "  <thead>\n",
              "    <tr style=\"text-align: right;\">\n",
              "      <th></th>\n",
              "      <th>BoroCode</th>\n",
              "      <th>BoroName</th>\n",
              "      <th>the_geom</th>\n",
              "      <th>CountyFIPS</th>\n",
              "      <th>NTACode</th>\n",
              "      <th>NTAName</th>\n",
              "      <th>Shape_Leng</th>\n",
              "      <th>Shape_Area</th>\n",
              "    </tr>\n",
              "  </thead>\n",
              "  <tbody>\n",
              "    <tr>\n",
              "      <th>0</th>\n",
              "      <td>3</td>\n",
              "      <td>Brooklyn</td>\n",
              "      <td>MULTIPOLYGON (((-73.97604935657381 40.63127590...</td>\n",
              "      <td>47</td>\n",
              "      <td>BK88</td>\n",
              "      <td>Borough Park</td>\n",
              "      <td>39247.227831</td>\n",
              "      <td>5.400502e+07</td>\n",
              "    </tr>\n",
              "    <tr>\n",
              "      <th>1</th>\n",
              "      <td>4</td>\n",
              "      <td>Queens</td>\n",
              "      <td>MULTIPOLYGON (((-73.80379022888098 40.77561011...</td>\n",
              "      <td>81</td>\n",
              "      <td>QN51</td>\n",
              "      <td>Murray Hill</td>\n",
              "      <td>33266.904797</td>\n",
              "      <td>5.248828e+07</td>\n",
              "    </tr>\n",
              "    <tr>\n",
              "      <th>2</th>\n",
              "      <td>4</td>\n",
              "      <td>Queens</td>\n",
              "      <td>MULTIPOLYGON (((-73.8610972440186 40.763664477...</td>\n",
              "      <td>81</td>\n",
              "      <td>QN27</td>\n",
              "      <td>East Elmhurst</td>\n",
              "      <td>19816.712074</td>\n",
              "      <td>1.972685e+07</td>\n",
              "    </tr>\n",
              "    <tr>\n",
              "      <th>3</th>\n",
              "      <td>4</td>\n",
              "      <td>Queens</td>\n",
              "      <td>MULTIPOLYGON (((-73.75725671509139 40.71813860...</td>\n",
              "      <td>81</td>\n",
              "      <td>QN07</td>\n",
              "      <td>Hollis</td>\n",
              "      <td>20976.335574</td>\n",
              "      <td>2.288777e+07</td>\n",
              "    </tr>\n",
              "    <tr>\n",
              "      <th>4</th>\n",
              "      <td>1</td>\n",
              "      <td>Manhattan</td>\n",
              "      <td>MULTIPOLYGON (((-73.94607828674226 40.82126321...</td>\n",
              "      <td>61</td>\n",
              "      <td>MN06</td>\n",
              "      <td>Manhattanville</td>\n",
              "      <td>17040.685413</td>\n",
              "      <td>1.064708e+07</td>\n",
              "    </tr>\n",
              "  </tbody>\n",
              "</table>\n",
              "</div>"
            ],
            "text/plain": [
              "   BoroCode   BoroName  ...    Shape_Leng    Shape_Area\n",
              "0         3   Brooklyn  ...  39247.227831  5.400502e+07\n",
              "1         4     Queens  ...  33266.904797  5.248828e+07\n",
              "2         4     Queens  ...  19816.712074  1.972685e+07\n",
              "3         4     Queens  ...  20976.335574  2.288777e+07\n",
              "4         1  Manhattan  ...  17040.685413  1.064708e+07\n",
              "\n",
              "[5 rows x 8 columns]"
            ]
          },
          "metadata": {
            "tags": []
          },
          "execution_count": 6
        }
      ]
    },
    {
      "cell_type": "code",
      "metadata": {
        "id": "Op8Wg8dbRmy_",
        "colab_type": "code",
        "outputId": "3eb98c3f-d20c-44b6-a968-2c695d7e4306",
        "colab": {
          "base_uri": "https://localhost:8080/",
          "height": 51
        }
      },
      "source": [
        "df['Shape_Area'].max()\n",
        "print(df.loc[df.Shape_Area == 327768572.857,['NTAName','Shape_Area']])"
      ],
      "execution_count": 0,
      "outputs": [
        {
          "output_type": "stream",
          "text": [
            "                               NTAName    Shape_Area\n",
            "176  New Springville-Bloomfield-Travis  3.277686e+08\n"
          ],
          "name": "stdout"
        }
      ]
    },
    {
      "cell_type": "markdown",
      "metadata": {
        "id": "2zKlNZ6Alkki",
        "colab_type": "text"
      },
      "source": [
        "**Largest Neighborhood in New York** : New Springville-Bloomfield-Travis"
      ]
    },
    {
      "cell_type": "markdown",
      "metadata": {
        "id": "xjpFtOVDThnF",
        "colab_type": "text"
      },
      "source": [
        "Population Statistics for Each Neighborhood"
      ]
    },
    {
      "cell_type": "code",
      "metadata": {
        "id": "ddUUMfgeRy_L",
        "colab_type": "code",
        "outputId": "839d264e-26be-4823-ceda-65a8c74657ce",
        "colab": {
          "base_uri": "https://localhost:8080/",
          "height": 204
        }
      },
      "source": [
        "df_pop = pd.read_csv('NYC pop.csv')\n",
        "df_pop.head()"
      ],
      "execution_count": 0,
      "outputs": [
        {
          "output_type": "execute_result",
          "data": {
            "text/html": [
              "<div>\n",
              "<style scoped>\n",
              "    .dataframe tbody tr th:only-of-type {\n",
              "        vertical-align: middle;\n",
              "    }\n",
              "\n",
              "    .dataframe tbody tr th {\n",
              "        vertical-align: top;\n",
              "    }\n",
              "\n",
              "    .dataframe thead th {\n",
              "        text-align: right;\n",
              "    }\n",
              "</style>\n",
              "<table border=\"1\" class=\"dataframe\">\n",
              "  <thead>\n",
              "    <tr style=\"text-align: right;\">\n",
              "      <th></th>\n",
              "      <th>Borough</th>\n",
              "      <th>Year</th>\n",
              "      <th>FIPS County Code</th>\n",
              "      <th>NTA Code</th>\n",
              "      <th>NTA Name</th>\n",
              "      <th>Population</th>\n",
              "    </tr>\n",
              "  </thead>\n",
              "  <tbody>\n",
              "    <tr>\n",
              "      <th>0</th>\n",
              "      <td>Bronx</td>\n",
              "      <td>2000</td>\n",
              "      <td>5</td>\n",
              "      <td>BX01</td>\n",
              "      <td>Claremont-Bathgate</td>\n",
              "      <td>28149</td>\n",
              "    </tr>\n",
              "    <tr>\n",
              "      <th>1</th>\n",
              "      <td>Bronx</td>\n",
              "      <td>2000</td>\n",
              "      <td>5</td>\n",
              "      <td>BX03</td>\n",
              "      <td>Eastchester-Edenwald-Baychester</td>\n",
              "      <td>35422</td>\n",
              "    </tr>\n",
              "    <tr>\n",
              "      <th>2</th>\n",
              "      <td>Bronx</td>\n",
              "      <td>2000</td>\n",
              "      <td>5</td>\n",
              "      <td>BX05</td>\n",
              "      <td>Bedford Park-Fordham North</td>\n",
              "      <td>55329</td>\n",
              "    </tr>\n",
              "    <tr>\n",
              "      <th>3</th>\n",
              "      <td>Bronx</td>\n",
              "      <td>2000</td>\n",
              "      <td>5</td>\n",
              "      <td>BX06</td>\n",
              "      <td>Belmont</td>\n",
              "      <td>25967</td>\n",
              "    </tr>\n",
              "    <tr>\n",
              "      <th>4</th>\n",
              "      <td>Bronx</td>\n",
              "      <td>2000</td>\n",
              "      <td>5</td>\n",
              "      <td>BX07</td>\n",
              "      <td>Bronxdale</td>\n",
              "      <td>34309</td>\n",
              "    </tr>\n",
              "  </tbody>\n",
              "</table>\n",
              "</div>"
            ],
            "text/plain": [
              "  Borough  Year  ...                         NTA Name Population\n",
              "0   Bronx  2000  ...               Claremont-Bathgate      28149\n",
              "1   Bronx  2000  ...  Eastchester-Edenwald-Baychester      35422\n",
              "2   Bronx  2000  ...       Bedford Park-Fordham North      55329\n",
              "3   Bronx  2000  ...                          Belmont      25967\n",
              "4   Bronx  2000  ...                        Bronxdale      34309\n",
              "\n",
              "[5 rows x 6 columns]"
            ]
          },
          "metadata": {
            "tags": []
          },
          "execution_count": 9
        }
      ]
    },
    {
      "cell_type": "code",
      "metadata": {
        "id": "IHKVP1oiSuQj",
        "colab_type": "code",
        "outputId": "4336e369-ac79-4a7c-b028-007ab8a9cf27",
        "colab": {
          "base_uri": "https://localhost:8080/",
          "height": 34
        }
      },
      "source": [
        "#Neighborhood with maximum population\n",
        "df_pop['Population'].max()"
      ],
      "execution_count": 0,
      "outputs": [
        {
          "output_type": "execute_result",
          "data": {
            "text/plain": [
              "136954"
            ]
          },
          "metadata": {
            "tags": []
          },
          "execution_count": 11
        }
      ]
    },
    {
      "cell_type": "code",
      "metadata": {
        "id": "1TDws29pSzqX",
        "colab_type": "code",
        "outputId": "d6620ff9-c2c0-41f7-e2fb-08896ddbe124",
        "colab": {
          "base_uri": "https://localhost:8080/",
          "height": 51
        }
      },
      "source": [
        "print(df_pop.loc[df_pop.Population==136954, ['NTA Name','Population']])"
      ],
      "execution_count": 0,
      "outputs": [
        {
          "output_type": "stream",
          "text": [
            "           NTA Name  Population\n",
            "95  Upper West Side      136954\n"
          ],
          "name": "stdout"
        }
      ]
    },
    {
      "cell_type": "markdown",
      "metadata": {
        "id": "YdBuws__l3pF",
        "colab_type": "text"
      },
      "source": [
        "**Neighborhood in New York with the maximum population** : Upper West Side"
      ]
    },
    {
      "cell_type": "markdown",
      "metadata": {
        "id": "eEBMH4EJavCP",
        "colab_type": "text"
      },
      "source": [
        "### **Using FourSquare API**"
      ]
    },
    {
      "cell_type": "code",
      "metadata": {
        "id": "1XloSixVamXc",
        "colab_type": "code",
        "outputId": "06e82ea2-e9b4-49d6-c0c8-caec725d54d1",
        "colab": {
          "base_uri": "https://localhost:8080/",
          "height": 68
        }
      },
      "source": [
        "CLIENT_ID = '1RJCHNW45W2WNLEBWOF2KULSEXBFSIADLFSBAMDCOVADRGV4' \n",
        "CLIENT_SECRET = '2CK3RNSRP4HYE1QI5PT0LMDGCPYFBC2EAX1ESZ4V3HOC5WSC' \n",
        "VERSION = '20180604'\n",
        "LIMIT = 30\n",
        "print('Your credentails:')\n",
        "print('CLIENT_ID: ' + CLIENT_ID)\n",
        "print('CLIENT_SECRET:' + CLIENT_SECRET)"
      ],
      "execution_count": 0,
      "outputs": [
        {
          "output_type": "stream",
          "text": [
            "Your credentails:\n",
            "CLIENT_ID: 1RJCHNW45W2WNLEBWOF2KULSEXBFSIADLFSBAMDCOVADRGV4\n",
            "CLIENT_SECRET:2CK3RNSRP4HYE1QI5PT0LMDGCPYFBC2EAX1ESZ4V3HOC5WSC\n"
          ],
          "name": "stdout"
        }
      ]
    },
    {
      "cell_type": "markdown",
      "metadata": {
        "id": "OcZrQDPxcIeX",
        "colab_type": "text"
      },
      "source": [
        "Schools in New York"
      ]
    },
    {
      "cell_type": "code",
      "metadata": {
        "id": "2IXGLXVVberL",
        "colab_type": "code",
        "outputId": "125b681e-4b3e-4e56-9b57-350657e47735",
        "colab": {
          "base_uri": "https://localhost:8080/",
          "height": 34
        }
      },
      "source": [
        "search_query = 'School'\n",
        "radius = 500\n",
        "print(search_query + ' .... OK!')\n"
      ],
      "execution_count": 0,
      "outputs": [
        {
          "output_type": "stream",
          "text": [
            "School .... OK!\n"
          ],
          "name": "stdout"
        }
      ]
    },
    {
      "cell_type": "code",
      "metadata": {
        "id": "BD8IfCL0bjg_",
        "colab_type": "code",
        "outputId": "ba2e72ca-c15d-443c-f2bc-940de105bd63",
        "colab": {
          "base_uri": "https://localhost:8080/",
          "height": 54
        }
      },
      "source": [
        "url = 'https://api.foursquare.com/v2/venues/search?client_id={}&client_secret={}&ll={},{}&v={}&query={}&radius={}&limit={}'.format(CLIENT_ID, CLIENT_SECRET, latitude, longitude, VERSION, search_query, radius, LIMIT)\n",
        "url"
      ],
      "execution_count": 0,
      "outputs": [
        {
          "output_type": "execute_result",
          "data": {
            "text/plain": [
              "'https://api.foursquare.com/v2/venues/search?client_id=1RJCHNW45W2WNLEBWOF2KULSEXBFSIADLFSBAMDCOVADRGV4&client_secret=2CK3RNSRP4HYE1QI5PT0LMDGCPYFBC2EAX1ESZ4V3HOC5WSC&ll=40.7127281,-74.0060152&v=20180604&query=School&radius=500&limit=30'"
            ]
          },
          "metadata": {
            "tags": []
          },
          "execution_count": 35
        }
      ]
    },
    {
      "cell_type": "code",
      "metadata": {
        "id": "fkmRrYiebnYi",
        "colab_type": "code",
        "outputId": "0cc39c5d-ae46-48e5-dd87-a3a7f8ea19a2",
        "colab": {
          "base_uri": "https://localhost:8080/",
          "height": 462
        }
      },
      "source": [
        "results = requests.get(url).json()\n",
        "venues = results['response']['venues']\n",
        "\n",
        "\n",
        "dataframe = json_normalize(venues)\n",
        "dataframe.head()"
      ],
      "execution_count": 0,
      "outputs": [
        {
          "output_type": "stream",
          "text": [
            "/usr/local/lib/python3.6/dist-packages/ipykernel_launcher.py:5: FutureWarning: pandas.io.json.json_normalize is deprecated, use pandas.json_normalize instead\n",
            "  \"\"\"\n"
          ],
          "name": "stderr"
        },
        {
          "output_type": "execute_result",
          "data": {
            "text/html": [
              "<div>\n",
              "<style scoped>\n",
              "    .dataframe tbody tr th:only-of-type {\n",
              "        vertical-align: middle;\n",
              "    }\n",
              "\n",
              "    .dataframe tbody tr th {\n",
              "        vertical-align: top;\n",
              "    }\n",
              "\n",
              "    .dataframe thead th {\n",
              "        text-align: right;\n",
              "    }\n",
              "</style>\n",
              "<table border=\"1\" class=\"dataframe\">\n",
              "  <thead>\n",
              "    <tr style=\"text-align: right;\">\n",
              "      <th></th>\n",
              "      <th>id</th>\n",
              "      <th>name</th>\n",
              "      <th>categories</th>\n",
              "      <th>referralId</th>\n",
              "      <th>hasPerk</th>\n",
              "      <th>location.address</th>\n",
              "      <th>location.crossStreet</th>\n",
              "      <th>location.lat</th>\n",
              "      <th>location.lng</th>\n",
              "      <th>location.labeledLatLngs</th>\n",
              "      <th>location.distance</th>\n",
              "      <th>location.postalCode</th>\n",
              "      <th>location.cc</th>\n",
              "      <th>location.city</th>\n",
              "      <th>location.state</th>\n",
              "      <th>location.country</th>\n",
              "      <th>location.formattedAddress</th>\n",
              "      <th>venuePage.id</th>\n",
              "    </tr>\n",
              "  </thead>\n",
              "  <tbody>\n",
              "    <tr>\n",
              "      <th>0</th>\n",
              "      <td>4b980f0ef964a520952935e3</td>\n",
              "      <td>Murry Bergtraum High School</td>\n",
              "      <td>[{'id': '4bf58dd8d48988d13d941735', 'name': 'H...</td>\n",
              "      <td>v-1588591595</td>\n",
              "      <td>False</td>\n",
              "      <td>411 Pearl St</td>\n",
              "      <td>Madison Street</td>\n",
              "      <td>40.711182</td>\n",
              "      <td>-74.001385</td>\n",
              "      <td>[{'label': 'display', 'lat': 40.71118183194915...</td>\n",
              "      <td>426</td>\n",
              "      <td>10038</td>\n",
              "      <td>US</td>\n",
              "      <td>New York</td>\n",
              "      <td>NY</td>\n",
              "      <td>United States</td>\n",
              "      <td>[411 Pearl St (Madison Street), New York, NY 1...</td>\n",
              "      <td>NaN</td>\n",
              "    </tr>\n",
              "    <tr>\n",
              "      <th>1</th>\n",
              "      <td>4d5ab621e2df60fc9f09d4e5</td>\n",
              "      <td>Actors Studio Drama School</td>\n",
              "      <td>[{'id': '4bf58dd8d48988d1ac941735', 'name': 'C...</td>\n",
              "      <td>v-1588591595</td>\n",
              "      <td>False</td>\n",
              "      <td>1 Pace Plz</td>\n",
              "      <td>btwn Nassau &amp; Gold St</td>\n",
              "      <td>40.711598</td>\n",
              "      <td>-74.005427</td>\n",
              "      <td>[{'label': 'display', 'lat': 40.71159778861919...</td>\n",
              "      <td>135</td>\n",
              "      <td>10038</td>\n",
              "      <td>US</td>\n",
              "      <td>New York</td>\n",
              "      <td>NY</td>\n",
              "      <td>United States</td>\n",
              "      <td>[1 Pace Plz (btwn Nassau &amp; Gold St), New York,...</td>\n",
              "      <td>32694453</td>\n",
              "    </tr>\n",
              "    <tr>\n",
              "      <th>2</th>\n",
              "      <td>4e37fc7918a8470916d00b74</td>\n",
              "      <td>Lubin School Of Business</td>\n",
              "      <td>[{'id': '4d4b7105d754a06372d81259', 'name': 'C...</td>\n",
              "      <td>v-1588591595</td>\n",
              "      <td>False</td>\n",
              "      <td>1 Pace Plz</td>\n",
              "      <td>btwn Nassau &amp; Gold St</td>\n",
              "      <td>40.711024</td>\n",
              "      <td>-74.003732</td>\n",
              "      <td>[{'label': 'display', 'lat': 40.71102372013692...</td>\n",
              "      <td>270</td>\n",
              "      <td>10038</td>\n",
              "      <td>US</td>\n",
              "      <td>New York</td>\n",
              "      <td>NY</td>\n",
              "      <td>United States</td>\n",
              "      <td>[1 Pace Plz (btwn Nassau &amp; Gold St), New York,...</td>\n",
              "      <td>NaN</td>\n",
              "    </tr>\n",
              "    <tr>\n",
              "      <th>3</th>\n",
              "      <td>4dbc221c6a23e294ba25a512</td>\n",
              "      <td>ABI School Of Barbering</td>\n",
              "      <td>[{'id': '4bf58dd8d48988d1ad941735', 'name': 'T...</td>\n",
              "      <td>v-1588591595</td>\n",
              "      <td>False</td>\n",
              "      <td>Chambers</td>\n",
              "      <td>NaN</td>\n",
              "      <td>40.715366</td>\n",
              "      <td>-74.008153</td>\n",
              "      <td>[{'label': 'display', 'lat': 40.71536599999999...</td>\n",
              "      <td>344</td>\n",
              "      <td>10013</td>\n",
              "      <td>US</td>\n",
              "      <td>New York</td>\n",
              "      <td>NY</td>\n",
              "      <td>United States</td>\n",
              "      <td>[Chambers, New York, NY 10013, United States]</td>\n",
              "      <td>NaN</td>\n",
              "    </tr>\n",
              "    <tr>\n",
              "      <th>4</th>\n",
              "      <td>4a78d55cf964a5208be61fe3</td>\n",
              "      <td>NYU School of Professional Studies</td>\n",
              "      <td>[{'id': '4bf58dd8d48988d130941735', 'name': 'B...</td>\n",
              "      <td>v-1588591595</td>\n",
              "      <td>False</td>\n",
              "      <td>15 Barclay</td>\n",
              "      <td>btwn Broadway and Church St.</td>\n",
              "      <td>40.712634</td>\n",
              "      <td>-74.008312</td>\n",
              "      <td>[{'label': 'display', 'lat': 40.71263433816652...</td>\n",
              "      <td>194</td>\n",
              "      <td>10279</td>\n",
              "      <td>US</td>\n",
              "      <td>New York</td>\n",
              "      <td>NY</td>\n",
              "      <td>United States</td>\n",
              "      <td>[15 Barclay (btwn Broadway and Church St.), Ne...</td>\n",
              "      <td>NaN</td>\n",
              "    </tr>\n",
              "  </tbody>\n",
              "</table>\n",
              "</div>"
            ],
            "text/plain": [
              "                         id  ... venuePage.id\n",
              "0  4b980f0ef964a520952935e3  ...          NaN\n",
              "1  4d5ab621e2df60fc9f09d4e5  ...     32694453\n",
              "2  4e37fc7918a8470916d00b74  ...          NaN\n",
              "3  4dbc221c6a23e294ba25a512  ...          NaN\n",
              "4  4a78d55cf964a5208be61fe3  ...          NaN\n",
              "\n",
              "[5 rows x 18 columns]"
            ]
          },
          "metadata": {
            "tags": []
          },
          "execution_count": 37
        }
      ]
    },
    {
      "cell_type": "code",
      "metadata": {
        "id": "hOHjbzx_bwWc",
        "colab_type": "code",
        "outputId": "b5037e0d-bad0-44b9-8ef4-2472296bb127",
        "colab": {
          "base_uri": "https://localhost:8080/",
          "height": 34
        }
      },
      "source": [
        "dataframe.shape[0]"
      ],
      "execution_count": 0,
      "outputs": [
        {
          "output_type": "execute_result",
          "data": {
            "text/plain": [
              "30"
            ]
          },
          "metadata": {
            "tags": []
          },
          "execution_count": 44
        }
      ]
    },
    {
      "cell_type": "markdown",
      "metadata": {
        "id": "n0_JOgxOdHMy",
        "colab_type": "text"
      },
      "source": [
        "There are a total of 30 schools in New York."
      ]
    },
    {
      "cell_type": "code",
      "metadata": {
        "id": "gmIqVFSGcPY_",
        "colab_type": "code",
        "outputId": "c3387a89-fac4-41eb-a261-74d1a4999051",
        "colab": {
          "base_uri": "https://localhost:8080/",
          "height": 544
        }
      },
      "source": [
        "df_pc = dataframe['location.postalCode']\n",
        "df_pc"
      ],
      "execution_count": 0,
      "outputs": [
        {
          "output_type": "execute_result",
          "data": {
            "text/plain": [
              "0     10038\n",
              "1     10038\n",
              "2     10038\n",
              "3     10013\n",
              "4     10279\n",
              "5     10038\n",
              "6     10013\n",
              "7     10038\n",
              "8     10038\n",
              "9       NaN\n",
              "10    10038\n",
              "11    10007\n",
              "12      NaN\n",
              "13    10007\n",
              "14      NaN\n",
              "15    10007\n",
              "16    10007\n",
              "17      NaN\n",
              "18    10007\n",
              "19    10007\n",
              "20    10038\n",
              "21    10038\n",
              "22      NaN\n",
              "23    10038\n",
              "24    10038\n",
              "25    10038\n",
              "26    10013\n",
              "27    10013\n",
              "28    10013\n",
              "29    10013\n",
              "Name: location.postalCode, dtype: object"
            ]
          },
          "metadata": {
            "tags": []
          },
          "execution_count": 45
        }
      ]
    },
    {
      "cell_type": "code",
      "metadata": {
        "id": "CD9rhIaFdd3x",
        "colab_type": "code",
        "outputId": "9ecc3632-cbdc-4936-8437-3bef6c19d280",
        "colab": {
          "base_uri": "https://localhost:8080/",
          "height": 102
        }
      },
      "source": [
        "df_pc.value_counts()"
      ],
      "execution_count": 0,
      "outputs": [
        {
          "output_type": "execute_result",
          "data": {
            "text/plain": [
              "10038    12\n",
              "10013     6\n",
              "10007     6\n",
              "10279     1\n",
              "Name: location.postalCode, dtype: int64"
            ]
          },
          "metadata": {
            "tags": []
          },
          "execution_count": 47
        }
      ]
    },
    {
      "cell_type": "markdown",
      "metadata": {
        "id": "ynktqQ-beO2M",
        "colab_type": "text"
      },
      "source": [
        "This indicates that the area which has the Postal Code 10038 is a suitable option for those buyers/tenants whose kids go to school.\n",
        "The neighborhoods which have the Postal Code 10038 are :\n",
        "\n",
        "\n",
        "1.   City Hall\n",
        "2.   Manhattan\n",
        "3.   Downtown\n",
        "\n",
        "\n",
        "\n"
      ]
    },
    {
      "cell_type": "code",
      "metadata": {
        "id": "qizUb3yV_dYx",
        "colab_type": "code",
        "colab": {
          "base_uri": "https://localhost:8080/",
          "height": 137
        },
        "outputId": "6b81754b-dd87-4454-960f-f1923989aa3c"
      },
      "source": [
        "data1 = [['City Hall',40.7128,-74.0061],['Manhattan',40.7831,-73.9712],['Downtown',40.7209,-74.0007]] \n",
        "df2 = pd.DataFrame(data1, columns=['Neighborhood','Lat','Long'])\n",
        "df2.head()"
      ],
      "execution_count": 15,
      "outputs": [
        {
          "output_type": "execute_result",
          "data": {
            "text/html": [
              "<div>\n",
              "<style scoped>\n",
              "    .dataframe tbody tr th:only-of-type {\n",
              "        vertical-align: middle;\n",
              "    }\n",
              "\n",
              "    .dataframe tbody tr th {\n",
              "        vertical-align: top;\n",
              "    }\n",
              "\n",
              "    .dataframe thead th {\n",
              "        text-align: right;\n",
              "    }\n",
              "</style>\n",
              "<table border=\"1\" class=\"dataframe\">\n",
              "  <thead>\n",
              "    <tr style=\"text-align: right;\">\n",
              "      <th></th>\n",
              "      <th>Neighborhood</th>\n",
              "      <th>Lat</th>\n",
              "      <th>Long</th>\n",
              "    </tr>\n",
              "  </thead>\n",
              "  <tbody>\n",
              "    <tr>\n",
              "      <th>0</th>\n",
              "      <td>City Hall</td>\n",
              "      <td>40.7128</td>\n",
              "      <td>-74.0061</td>\n",
              "    </tr>\n",
              "    <tr>\n",
              "      <th>1</th>\n",
              "      <td>Manhattan</td>\n",
              "      <td>40.7831</td>\n",
              "      <td>-73.9712</td>\n",
              "    </tr>\n",
              "    <tr>\n",
              "      <th>2</th>\n",
              "      <td>Downtown</td>\n",
              "      <td>40.7209</td>\n",
              "      <td>-74.0007</td>\n",
              "    </tr>\n",
              "  </tbody>\n",
              "</table>\n",
              "</div>"
            ],
            "text/plain": [
              "  Neighborhood      Lat     Long\n",
              "0    City Hall  40.7128 -74.0061\n",
              "1    Manhattan  40.7831 -73.9712\n",
              "2     Downtown  40.7209 -74.0007"
            ]
          },
          "metadata": {
            "tags": []
          },
          "execution_count": 15
        }
      ]
    },
    {
      "cell_type": "markdown",
      "metadata": {
        "id": "cpTjuH-BAsuc",
        "colab_type": "text"
      },
      "source": [
        "Map Showing Top 3 Neighborhoods with **Highest Number of Schools**"
      ]
    },
    {
      "cell_type": "code",
      "metadata": {
        "id": "sysNK868_Ce1",
        "colab_type": "code",
        "colab": {
          "base_uri": "https://localhost:8080/",
          "height": 674
        },
        "outputId": "43df1c59-b7d8-46fa-f983-cc87768b1251"
      },
      "source": [
        "r = folium.Map(location=[latitude,longitude], zoom_start=12)\n",
        "tip = 'Click me!'\n",
        "\n",
        "folium.Marker([40.7128, -74.0061], popup='<b>City Hall</b>', tooltip=tip).add_to(r)\n",
        "folium.Marker([40.7831, -73.9712], popup='<b>Manhattan</b>', tooltip=tip).add_to(r)\n",
        "folium.Marker([40.7209, -74.0007], popup='<b>Downtown</b>', tooltip=tip).add_to(r)\n",
        "\n",
        "\n",
        "r"
      ],
      "execution_count": 26,
      "outputs": [
        {
          "output_type": "execute_result",
          "data": {
            "text/html": [
              "<div style=\"width:100%;\"><div style=\"position:relative;width:100%;height:0;padding-bottom:60%;\"><iframe src=\"about:blank\" style=\"position:absolute;width:100%;height:100%;left:0;top:0;border:none !important;\" data-html=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 onload=\"this.contentDocument.open();this.contentDocument.write(atob(this.getAttribute('data-html')));this.contentDocument.close();\" allowfullscreen webkitallowfullscreen mozallowfullscreen></iframe></div></div>"
            ],
            "text/plain": [
              "<folium.folium.Map at 0x7fce74d82eb8>"
            ]
          },
          "metadata": {
            "tags": []
          },
          "execution_count": 26
        }
      ]
    },
    {
      "cell_type": "markdown",
      "metadata": {
        "id": "oMWOSGFYfb9A",
        "colab_type": "text"
      },
      "source": [
        "Next, we look for neighborhood with a lot of restaurants nearby."
      ]
    },
    {
      "cell_type": "code",
      "metadata": {
        "id": "FiG2zVdQeG_Q",
        "colab_type": "code",
        "outputId": "d7fb2bd2-f8c1-41f4-89f7-fad74ca56c9e",
        "colab": {
          "base_uri": "https://localhost:8080/",
          "height": 34
        }
      },
      "source": [
        "search_query2 = 'restaurant'\n",
        "radius = 500\n",
        "print(search_query2 + ' .... OK!')"
      ],
      "execution_count": 0,
      "outputs": [
        {
          "output_type": "stream",
          "text": [
            "restaurant .... OK!\n"
          ],
          "name": "stdout"
        }
      ]
    },
    {
      "cell_type": "code",
      "metadata": {
        "id": "La7Q_squfj02",
        "colab_type": "code",
        "outputId": "01e04f1a-aa2f-4226-b0ae-99a0aa85dacb",
        "colab": {
          "base_uri": "https://localhost:8080/",
          "height": 445
        }
      },
      "source": [
        "url = 'https://api.foursquare.com/v2/venues/search?client_id={}&client_secret={}&ll={},{}&v={}&query={}&radius={}&limit={}'.format(CLIENT_ID, CLIENT_SECRET, latitude, longitude, VERSION, search_query, radius, LIMIT)\n",
        "url\n",
        "results = requests.get(url).json()\n",
        "venues = results['response']['venues']\n",
        "\n",
        "df_r = json_normalize(venues)\n",
        "df_r.head()"
      ],
      "execution_count": 0,
      "outputs": [
        {
          "output_type": "stream",
          "text": [
            "/usr/local/lib/python3.6/dist-packages/ipykernel_launcher.py:6: FutureWarning: pandas.io.json.json_normalize is deprecated, use pandas.json_normalize instead\n",
            "  \n"
          ],
          "name": "stderr"
        },
        {
          "output_type": "execute_result",
          "data": {
            "text/html": [
              "<div>\n",
              "<style scoped>\n",
              "    .dataframe tbody tr th:only-of-type {\n",
              "        vertical-align: middle;\n",
              "    }\n",
              "\n",
              "    .dataframe tbody tr th {\n",
              "        vertical-align: top;\n",
              "    }\n",
              "\n",
              "    .dataframe thead th {\n",
              "        text-align: right;\n",
              "    }\n",
              "</style>\n",
              "<table border=\"1\" class=\"dataframe\">\n",
              "  <thead>\n",
              "    <tr style=\"text-align: right;\">\n",
              "      <th></th>\n",
              "      <th>id</th>\n",
              "      <th>name</th>\n",
              "      <th>categories</th>\n",
              "      <th>referralId</th>\n",
              "      <th>hasPerk</th>\n",
              "      <th>location.address</th>\n",
              "      <th>location.crossStreet</th>\n",
              "      <th>location.lat</th>\n",
              "      <th>location.lng</th>\n",
              "      <th>location.labeledLatLngs</th>\n",
              "      <th>location.distance</th>\n",
              "      <th>location.postalCode</th>\n",
              "      <th>location.cc</th>\n",
              "      <th>location.city</th>\n",
              "      <th>location.state</th>\n",
              "      <th>location.country</th>\n",
              "      <th>location.formattedAddress</th>\n",
              "      <th>delivery.id</th>\n",
              "      <th>delivery.url</th>\n",
              "      <th>delivery.provider.name</th>\n",
              "      <th>delivery.provider.icon.prefix</th>\n",
              "      <th>delivery.provider.icon.sizes</th>\n",
              "      <th>delivery.provider.icon.name</th>\n",
              "      <th>venuePage.id</th>\n",
              "    </tr>\n",
              "  </thead>\n",
              "  <tbody>\n",
              "    <tr>\n",
              "      <th>0</th>\n",
              "      <td>4bc238adf8219c744286b410</td>\n",
              "      <td>Amore's Pizza Restaurant</td>\n",
              "      <td>[{'id': '4bf58dd8d48988d1ca941735', 'name': 'P...</td>\n",
              "      <td>v-1588592593</td>\n",
              "      <td>False</td>\n",
              "      <td>147 Chambers St</td>\n",
              "      <td>Hudson Street</td>\n",
              "      <td>40.715860</td>\n",
              "      <td>-74.009888</td>\n",
              "      <td>[{'label': 'display', 'lat': 40.71585960614924...</td>\n",
              "      <td>477</td>\n",
              "      <td>10007</td>\n",
              "      <td>US</td>\n",
              "      <td>New York</td>\n",
              "      <td>NY</td>\n",
              "      <td>United States</td>\n",
              "      <td>[147 Chambers St (Hudson Street), New York, NY...</td>\n",
              "      <td>1431324</td>\n",
              "      <td>https://www.seamless.com/menu/cafe-amores-pizz...</td>\n",
              "      <td>seamless</td>\n",
              "      <td>https://fastly.4sqi.net/img/general/cap/</td>\n",
              "      <td>[40, 50]</td>\n",
              "      <td>/delivery_provider_seamless_20180129.png</td>\n",
              "      <td>NaN</td>\n",
              "    </tr>\n",
              "    <tr>\n",
              "      <th>1</th>\n",
              "      <td>4b4fdfc8f964a520801827e3</td>\n",
              "      <td>TJ Byrnes Bar and Restaurant</td>\n",
              "      <td>[{'id': '4bf58dd8d48988d1c4941735', 'name': 'R...</td>\n",
              "      <td>v-1588592593</td>\n",
              "      <td>False</td>\n",
              "      <td>77 Fulton St</td>\n",
              "      <td>Gold St</td>\n",
              "      <td>40.709233</td>\n",
              "      <td>-74.003747</td>\n",
              "      <td>[{'label': 'display', 'lat': 40.70923312629616...</td>\n",
              "      <td>433</td>\n",
              "      <td>10038</td>\n",
              "      <td>US</td>\n",
              "      <td>New York</td>\n",
              "      <td>NY</td>\n",
              "      <td>United States</td>\n",
              "      <td>[77 Fulton St (Gold St), New York, NY 10038, U...</td>\n",
              "      <td>NaN</td>\n",
              "      <td>NaN</td>\n",
              "      <td>NaN</td>\n",
              "      <td>NaN</td>\n",
              "      <td>NaN</td>\n",
              "      <td>NaN</td>\n",
              "      <td>131643631</td>\n",
              "    </tr>\n",
              "    <tr>\n",
              "      <th>2</th>\n",
              "      <td>4c4890da1879c9b6cce6e143</td>\n",
              "      <td>New Shezan Restaurant</td>\n",
              "      <td>[{'id': '4bf58dd8d48988d115941735', 'name': 'M...</td>\n",
              "      <td>v-1588592593</td>\n",
              "      <td>False</td>\n",
              "      <td>183 Church St</td>\n",
              "      <td>btwn Duane &amp; Reade St.</td>\n",
              "      <td>40.715789</td>\n",
              "      <td>-74.007227</td>\n",
              "      <td>[{'label': 'display', 'lat': 40.71578949233164...</td>\n",
              "      <td>355</td>\n",
              "      <td>10007</td>\n",
              "      <td>US</td>\n",
              "      <td>New York</td>\n",
              "      <td>NY</td>\n",
              "      <td>United States</td>\n",
              "      <td>[183 Church St (btwn Duane &amp; Reade St.), New Y...</td>\n",
              "      <td>NaN</td>\n",
              "      <td>NaN</td>\n",
              "      <td>NaN</td>\n",
              "      <td>NaN</td>\n",
              "      <td>NaN</td>\n",
              "      <td>NaN</td>\n",
              "      <td>NaN</td>\n",
              "    </tr>\n",
              "    <tr>\n",
              "      <th>3</th>\n",
              "      <td>4b88199af964a520e6df31e3</td>\n",
              "      <td>Win Won Restaurant</td>\n",
              "      <td>[{'id': '4bf58dd8d48988d145941735', 'name': 'C...</td>\n",
              "      <td>v-1588592593</td>\n",
              "      <td>False</td>\n",
              "      <td>10 Liberty Pl</td>\n",
              "      <td>Maiden Lane</td>\n",
              "      <td>40.709193</td>\n",
              "      <td>-74.009344</td>\n",
              "      <td>[{'label': 'display', 'lat': 40.709193, 'lng':...</td>\n",
              "      <td>483</td>\n",
              "      <td>10038</td>\n",
              "      <td>US</td>\n",
              "      <td>New York</td>\n",
              "      <td>NY</td>\n",
              "      <td>United States</td>\n",
              "      <td>[10 Liberty Pl (Maiden Lane), New York, NY 100...</td>\n",
              "      <td>NaN</td>\n",
              "      <td>NaN</td>\n",
              "      <td>NaN</td>\n",
              "      <td>NaN</td>\n",
              "      <td>NaN</td>\n",
              "      <td>NaN</td>\n",
              "      <td>NaN</td>\n",
              "    </tr>\n",
              "    <tr>\n",
              "      <th>4</th>\n",
              "      <td>45e5c256f964a52046431fe3</td>\n",
              "      <td>Mudville Restaurant &amp; Tap House</td>\n",
              "      <td>[{'id': '4bf58dd8d48988d14c941735', 'name': 'W...</td>\n",
              "      <td>v-1588592593</td>\n",
              "      <td>False</td>\n",
              "      <td>126 Chambers St</td>\n",
              "      <td>btwn W Broadway &amp; Church St</td>\n",
              "      <td>40.715336</td>\n",
              "      <td>-74.008881</td>\n",
              "      <td>[{'label': 'display', 'lat': 40.71533575723845...</td>\n",
              "      <td>377</td>\n",
              "      <td>10007</td>\n",
              "      <td>US</td>\n",
              "      <td>New York</td>\n",
              "      <td>NY</td>\n",
              "      <td>United States</td>\n",
              "      <td>[126 Chambers St (btwn W Broadway &amp; Church St)...</td>\n",
              "      <td>299726</td>\n",
              "      <td>https://www.seamless.com/menu/mudville-restaur...</td>\n",
              "      <td>seamless</td>\n",
              "      <td>https://fastly.4sqi.net/img/general/cap/</td>\n",
              "      <td>[40, 50]</td>\n",
              "      <td>/delivery_provider_seamless_20180129.png</td>\n",
              "      <td>43156651</td>\n",
              "    </tr>\n",
              "  </tbody>\n",
              "</table>\n",
              "</div>"
            ],
            "text/plain": [
              "                         id  ... venuePage.id\n",
              "0  4bc238adf8219c744286b410  ...          NaN\n",
              "1  4b4fdfc8f964a520801827e3  ...    131643631\n",
              "2  4c4890da1879c9b6cce6e143  ...          NaN\n",
              "3  4b88199af964a520e6df31e3  ...          NaN\n",
              "4  45e5c256f964a52046431fe3  ...     43156651\n",
              "\n",
              "[5 rows x 24 columns]"
            ]
          },
          "metadata": {
            "tags": []
          },
          "execution_count": 49
        }
      ]
    },
    {
      "cell_type": "code",
      "metadata": {
        "id": "HU4wX1o8f0xU",
        "colab_type": "code",
        "outputId": "722bf8a4-9e92-449e-8791-22ede674f7d4",
        "colab": {
          "base_uri": "https://localhost:8080/",
          "height": 34
        }
      },
      "source": [
        "df_r.shape[0]"
      ],
      "execution_count": 0,
      "outputs": [
        {
          "output_type": "execute_result",
          "data": {
            "text/plain": [
              "30"
            ]
          },
          "metadata": {
            "tags": []
          },
          "execution_count": 50
        }
      ]
    },
    {
      "cell_type": "markdown",
      "metadata": {
        "id": "9UgXMsaWgVt0",
        "colab_type": "text"
      },
      "source": [
        "There are 30 restaurants in New York."
      ]
    },
    {
      "cell_type": "code",
      "metadata": {
        "id": "sKwXBs1Ff8B4",
        "colab_type": "code",
        "outputId": "e6494e26-e409-4449-ea54-09a37a25b74e",
        "colab": {
          "base_uri": "https://localhost:8080/",
          "height": 102
        }
      },
      "source": [
        "df_r['location.postalCode'].value_counts()"
      ],
      "execution_count": 0,
      "outputs": [
        {
          "output_type": "execute_result",
          "data": {
            "text/plain": [
              "10007    15\n",
              "10038     8\n",
              "10013     5\n",
              "10004     2\n",
              "Name: location.postalCode, dtype: int64"
            ]
          },
          "metadata": {
            "tags": []
          },
          "execution_count": 52
        }
      ]
    },
    {
      "cell_type": "code",
      "metadata": {
        "id": "oYWtGTu-wfEV",
        "colab_type": "code",
        "outputId": "07b7b59c-a887-40eb-cfaa-d1aeab0ce4d0",
        "colab": {
          "base_uri": "https://localhost:8080/",
          "height": 137
        }
      },
      "source": [
        "data = [['Tribeca', 40.7163,-74.0086], ['Downtown', 40.7209,-74.0007], ['Lower Manhattan', 40.7549,-73.9840]]\n",
        "df_rest = pd.DataFrame(data, columns = ['Neighborhood', 'Lat','Long'])\n",
        "df_rest.head() \n",
        "  "
      ],
      "execution_count": 11,
      "outputs": [
        {
          "output_type": "execute_result",
          "data": {
            "text/html": [
              "<div>\n",
              "<style scoped>\n",
              "    .dataframe tbody tr th:only-of-type {\n",
              "        vertical-align: middle;\n",
              "    }\n",
              "\n",
              "    .dataframe tbody tr th {\n",
              "        vertical-align: top;\n",
              "    }\n",
              "\n",
              "    .dataframe thead th {\n",
              "        text-align: right;\n",
              "    }\n",
              "</style>\n",
              "<table border=\"1\" class=\"dataframe\">\n",
              "  <thead>\n",
              "    <tr style=\"text-align: right;\">\n",
              "      <th></th>\n",
              "      <th>Neighborhood</th>\n",
              "      <th>Lat</th>\n",
              "      <th>Long</th>\n",
              "    </tr>\n",
              "  </thead>\n",
              "  <tbody>\n",
              "    <tr>\n",
              "      <th>0</th>\n",
              "      <td>Tribeca</td>\n",
              "      <td>40.7163</td>\n",
              "      <td>-74.0086</td>\n",
              "    </tr>\n",
              "    <tr>\n",
              "      <th>1</th>\n",
              "      <td>Downtown</td>\n",
              "      <td>40.7209</td>\n",
              "      <td>-74.0007</td>\n",
              "    </tr>\n",
              "    <tr>\n",
              "      <th>2</th>\n",
              "      <td>Lower Manhattan</td>\n",
              "      <td>40.7549</td>\n",
              "      <td>-73.9840</td>\n",
              "    </tr>\n",
              "  </tbody>\n",
              "</table>\n",
              "</div>"
            ],
            "text/plain": [
              "      Neighborhood      Lat     Long\n",
              "0          Tribeca  40.7163 -74.0086\n",
              "1         Downtown  40.7209 -74.0007\n",
              "2  Lower Manhattan  40.7549 -73.9840"
            ]
          },
          "metadata": {
            "tags": []
          },
          "execution_count": 11
        }
      ]
    },
    {
      "cell_type": "markdown",
      "metadata": {
        "id": "kRr79iHagbM4",
        "colab_type": "text"
      },
      "source": [
        "This implies people who prefer eating out alot should look for apartments in the neighborhoods with postal code 10007. The neighborhoods which have 10007 postal code are : \n",
        "\n",
        "\n",
        "1.   Tribeca\n",
        "2.   Downtown\n",
        "3.   Lower Manhattan\n",
        "\n"
      ]
    },
    {
      "cell_type": "markdown",
      "metadata": {
        "id": "Qezd70d2-7Ob",
        "colab_type": "text"
      },
      "source": [
        "Map displaying Top 3 Neighborhoods with highest **Number of Restaurants**"
      ]
    },
    {
      "cell_type": "code",
      "metadata": {
        "id": "JNbJL5Qf6R6a",
        "colab_type": "code",
        "outputId": "756318a4-8a5f-4d22-ce20-b291882a9ea4",
        "colab": {
          "base_uri": "https://localhost:8080/",
          "height": 674
        }
      },
      "source": [
        "m = folium.Map(\n",
        "    location=[latitude,longitude],\n",
        "    zoom_start=12,\n",
        "    \n",
        ")\n",
        "\n",
        "tooltip = 'Click me!'\n",
        "\n",
        "folium.Marker([40.7549, -73.9840], popup='<b>Lower Manhattan</b>', tooltip=tooltip).add_to(m)\n",
        "folium.Marker([40.7163, -74.0086], popup='<b>Tribeca</b>', tooltip=tooltip).add_to(m)\n",
        "folium.Marker([40.7209, -74.0007], popup='<b>Downtown</b>', tooltip=tooltip).add_to(m)\n",
        "\n",
        "\n",
        "m"
      ],
      "execution_count": 18,
      "outputs": [
        {
          "output_type": "execute_result",
          "data": {
            "text/html": [
              "<div style=\"width:100%;\"><div style=\"position:relative;width:100%;height:0;padding-bottom:60%;\"><iframe src=\"about:blank\" style=\"position:absolute;width:100%;height:100%;left:0;top:0;border:none !important;\" data-html=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 onload=\"this.contentDocument.open();this.contentDocument.write(atob(this.getAttribute('data-html')));this.contentDocument.close();\" allowfullscreen webkitallowfullscreen mozallowfullscreen></iframe></div></div>"
            ],
            "text/plain": [
              "<folium.folium.Map at 0x7fce74e10d30>"
            ]
          },
          "metadata": {
            "tags": []
          },
          "execution_count": 18
        }
      ]
    },
    {
      "cell_type": "markdown",
      "metadata": {
        "id": "K-yOMCCqScvC",
        "colab_type": "text"
      },
      "source": [
        "Classifying the neighborhood on the basis of how many **Extremely Low Income Units and Middle Income Units** they have."
      ]
    },
    {
      "cell_type": "code",
      "metadata": {
        "id": "Upobl9ZTgLQZ",
        "colab_type": "code",
        "outputId": "c3400171-a343-44f2-9daa-16e38cafca34",
        "colab": {
          "base_uri": "https://localhost:8080/",
          "height": 615
        }
      },
      "source": [
        "df_b = pd.read_csv('Housing_New_York_Units_by_Building.csv')\n",
        "df_b.head()"
      ],
      "execution_count": 0,
      "outputs": [
        {
          "output_type": "execute_result",
          "data": {
            "text/html": [
              "<div>\n",
              "<style scoped>\n",
              "    .dataframe tbody tr th:only-of-type {\n",
              "        vertical-align: middle;\n",
              "    }\n",
              "\n",
              "    .dataframe tbody tr th {\n",
              "        vertical-align: top;\n",
              "    }\n",
              "\n",
              "    .dataframe thead th {\n",
              "        text-align: right;\n",
              "    }\n",
              "</style>\n",
              "<table border=\"1\" class=\"dataframe\">\n",
              "  <thead>\n",
              "    <tr style=\"text-align: right;\">\n",
              "      <th></th>\n",
              "      <th>Project ID</th>\n",
              "      <th>Project Name</th>\n",
              "      <th>Program Group</th>\n",
              "      <th>Project Start Date</th>\n",
              "      <th>Project Completion Date</th>\n",
              "      <th>Building ID</th>\n",
              "      <th>Number</th>\n",
              "      <th>Street</th>\n",
              "      <th>Borough</th>\n",
              "      <th>Postcode</th>\n",
              "      <th>BBL</th>\n",
              "      <th>BIN</th>\n",
              "      <th>Community Board</th>\n",
              "      <th>Council District</th>\n",
              "      <th>Census Tract</th>\n",
              "      <th>NTA - Neighborhood Tabulation Area</th>\n",
              "      <th>Latitude</th>\n",
              "      <th>Longitude</th>\n",
              "      <th>Latitude (Internal)</th>\n",
              "      <th>Longitude (Internal)</th>\n",
              "      <th>Building Completion Date</th>\n",
              "      <th>Reporting Construction Type</th>\n",
              "      <th>Extended Affordability Only</th>\n",
              "      <th>Prevailing Wage Status</th>\n",
              "      <th>Extremely Low Income Units</th>\n",
              "      <th>Very Low Income Units</th>\n",
              "      <th>Low Income Units</th>\n",
              "      <th>Moderate Income Units</th>\n",
              "      <th>Middle Income Units</th>\n",
              "      <th>Other Income Units</th>\n",
              "      <th>Studio Units</th>\n",
              "      <th>1-BR Units</th>\n",
              "      <th>2-BR Units</th>\n",
              "      <th>3-BR Units</th>\n",
              "      <th>4-BR Units</th>\n",
              "      <th>5-BR Units</th>\n",
              "      <th>6-BR+ Units</th>\n",
              "      <th>Unknown-BR Units</th>\n",
              "      <th>Counted Rental Units</th>\n",
              "      <th>Counted Homeownership Units</th>\n",
              "      <th>All Counted Units</th>\n",
              "      <th>Total Units</th>\n",
              "    </tr>\n",
              "  </thead>\n",
              "  <tbody>\n",
              "    <tr>\n",
              "      <th>0</th>\n",
              "      <td>64390</td>\n",
              "      <td>COOPER SQUARE MHA - PHASE 1.GHPP.FY20</td>\n",
              "      <td>Multifamily Finance Program</td>\n",
              "      <td>03/31/2020</td>\n",
              "      <td>NaN</td>\n",
              "      <td>1564.0</td>\n",
              "      <td>83</td>\n",
              "      <td>2 AVENUE</td>\n",
              "      <td>Manhattan</td>\n",
              "      <td>10003.0</td>\n",
              "      <td>1.004600e+09</td>\n",
              "      <td>1006591.0</td>\n",
              "      <td>MN-03</td>\n",
              "      <td>2.0</td>\n",
              "      <td>38</td>\n",
              "      <td>MN22</td>\n",
              "      <td>40.726642</td>\n",
              "      <td>-73.989101</td>\n",
              "      <td>40.72676</td>\n",
              "      <td>-73.989368</td>\n",
              "      <td>03/31/2020</td>\n",
              "      <td>Preservation</td>\n",
              "      <td>No</td>\n",
              "      <td>Non Prevailing Wage</td>\n",
              "      <td>0</td>\n",
              "      <td>4</td>\n",
              "      <td>0</td>\n",
              "      <td>0</td>\n",
              "      <td>0</td>\n",
              "      <td>0</td>\n",
              "      <td>0</td>\n",
              "      <td>0</td>\n",
              "      <td>0</td>\n",
              "      <td>4</td>\n",
              "      <td>0</td>\n",
              "      <td>0</td>\n",
              "      <td>0</td>\n",
              "      <td>0</td>\n",
              "      <td>1</td>\n",
              "      <td>3</td>\n",
              "      <td>4</td>\n",
              "      <td>4</td>\n",
              "    </tr>\n",
              "    <tr>\n",
              "      <th>1</th>\n",
              "      <td>64390</td>\n",
              "      <td>COOPER SQUARE MHA - PHASE 1.GHPP.FY20</td>\n",
              "      <td>Multifamily Finance Program</td>\n",
              "      <td>03/31/2020</td>\n",
              "      <td>NaN</td>\n",
              "      <td>10537.0</td>\n",
              "      <td>13</td>\n",
              "      <td>EAST 3 STREET</td>\n",
              "      <td>Manhattan</td>\n",
              "      <td>10003.0</td>\n",
              "      <td>1.004590e+09</td>\n",
              "      <td>1077971.0</td>\n",
              "      <td>MN-03</td>\n",
              "      <td>2.0</td>\n",
              "      <td>38</td>\n",
              "      <td>MN22</td>\n",
              "      <td>40.726061</td>\n",
              "      <td>-73.990984</td>\n",
              "      <td>40.72620</td>\n",
              "      <td>-73.990811</td>\n",
              "      <td>03/31/2020</td>\n",
              "      <td>Preservation</td>\n",
              "      <td>No</td>\n",
              "      <td>Non Prevailing Wage</td>\n",
              "      <td>0</td>\n",
              "      <td>10</td>\n",
              "      <td>0</td>\n",
              "      <td>0</td>\n",
              "      <td>0</td>\n",
              "      <td>0</td>\n",
              "      <td>2</td>\n",
              "      <td>6</td>\n",
              "      <td>2</td>\n",
              "      <td>0</td>\n",
              "      <td>0</td>\n",
              "      <td>0</td>\n",
              "      <td>0</td>\n",
              "      <td>0</td>\n",
              "      <td>1</td>\n",
              "      <td>9</td>\n",
              "      <td>10</td>\n",
              "      <td>10</td>\n",
              "    </tr>\n",
              "    <tr>\n",
              "      <th>2</th>\n",
              "      <td>64390</td>\n",
              "      <td>COOPER SQUARE MHA - PHASE 1.GHPP.FY20</td>\n",
              "      <td>Multifamily Finance Program</td>\n",
              "      <td>03/31/2020</td>\n",
              "      <td>NaN</td>\n",
              "      <td>10557.0</td>\n",
              "      <td>21</td>\n",
              "      <td>EAST 3 STREET</td>\n",
              "      <td>Manhattan</td>\n",
              "      <td>10003.0</td>\n",
              "      <td>1.004590e+09</td>\n",
              "      <td>1077972.0</td>\n",
              "      <td>MN-03</td>\n",
              "      <td>2.0</td>\n",
              "      <td>38</td>\n",
              "      <td>MN22</td>\n",
              "      <td>40.725932</td>\n",
              "      <td>-73.990677</td>\n",
              "      <td>40.72608</td>\n",
              "      <td>-73.990486</td>\n",
              "      <td>03/31/2020</td>\n",
              "      <td>Preservation</td>\n",
              "      <td>No</td>\n",
              "      <td>Non Prevailing Wage</td>\n",
              "      <td>15</td>\n",
              "      <td>1</td>\n",
              "      <td>0</td>\n",
              "      <td>0</td>\n",
              "      <td>0</td>\n",
              "      <td>0</td>\n",
              "      <td>6</td>\n",
              "      <td>5</td>\n",
              "      <td>5</td>\n",
              "      <td>0</td>\n",
              "      <td>0</td>\n",
              "      <td>0</td>\n",
              "      <td>0</td>\n",
              "      <td>0</td>\n",
              "      <td>5</td>\n",
              "      <td>11</td>\n",
              "      <td>16</td>\n",
              "      <td>16</td>\n",
              "    </tr>\n",
              "    <tr>\n",
              "      <th>3</th>\n",
              "      <td>64390</td>\n",
              "      <td>COOPER SQUARE MHA - PHASE 1.GHPP.FY20</td>\n",
              "      <td>Multifamily Finance Program</td>\n",
              "      <td>03/31/2020</td>\n",
              "      <td>NaN</td>\n",
              "      <td>10569.0</td>\n",
              "      <td>23</td>\n",
              "      <td>EAST 3 STREET</td>\n",
              "      <td>Manhattan</td>\n",
              "      <td>10003.0</td>\n",
              "      <td>1.004590e+09</td>\n",
              "      <td>1077973.0</td>\n",
              "      <td>MN-03</td>\n",
              "      <td>2.0</td>\n",
              "      <td>38</td>\n",
              "      <td>MN22</td>\n",
              "      <td>40.725901</td>\n",
              "      <td>-73.990602</td>\n",
              "      <td>40.72605</td>\n",
              "      <td>-73.990403</td>\n",
              "      <td>03/31/2020</td>\n",
              "      <td>Preservation</td>\n",
              "      <td>No</td>\n",
              "      <td>Non Prevailing Wage</td>\n",
              "      <td>14</td>\n",
              "      <td>3</td>\n",
              "      <td>0</td>\n",
              "      <td>0</td>\n",
              "      <td>0</td>\n",
              "      <td>0</td>\n",
              "      <td>8</td>\n",
              "      <td>6</td>\n",
              "      <td>3</td>\n",
              "      <td>0</td>\n",
              "      <td>0</td>\n",
              "      <td>0</td>\n",
              "      <td>0</td>\n",
              "      <td>0</td>\n",
              "      <td>3</td>\n",
              "      <td>14</td>\n",
              "      <td>17</td>\n",
              "      <td>17</td>\n",
              "    </tr>\n",
              "    <tr>\n",
              "      <th>4</th>\n",
              "      <td>64390</td>\n",
              "      <td>COOPER SQUARE MHA - PHASE 1.GHPP.FY20</td>\n",
              "      <td>Multifamily Finance Program</td>\n",
              "      <td>03/31/2020</td>\n",
              "      <td>NaN</td>\n",
              "      <td>10580.0</td>\n",
              "      <td>25</td>\n",
              "      <td>EAST 3 STREET</td>\n",
              "      <td>Manhattan</td>\n",
              "      <td>10003.0</td>\n",
              "      <td>1.004590e+09</td>\n",
              "      <td>1077974.0</td>\n",
              "      <td>MN-03</td>\n",
              "      <td>2.0</td>\n",
              "      <td>38</td>\n",
              "      <td>MN22</td>\n",
              "      <td>40.725868</td>\n",
              "      <td>-73.990526</td>\n",
              "      <td>40.72601</td>\n",
              "      <td>-73.990327</td>\n",
              "      <td>03/31/2020</td>\n",
              "      <td>Preservation</td>\n",
              "      <td>No</td>\n",
              "      <td>Non Prevailing Wage</td>\n",
              "      <td>17</td>\n",
              "      <td>1</td>\n",
              "      <td>0</td>\n",
              "      <td>0</td>\n",
              "      <td>0</td>\n",
              "      <td>0</td>\n",
              "      <td>9</td>\n",
              "      <td>7</td>\n",
              "      <td>2</td>\n",
              "      <td>0</td>\n",
              "      <td>0</td>\n",
              "      <td>0</td>\n",
              "      <td>0</td>\n",
              "      <td>0</td>\n",
              "      <td>2</td>\n",
              "      <td>16</td>\n",
              "      <td>18</td>\n",
              "      <td>18</td>\n",
              "    </tr>\n",
              "  </tbody>\n",
              "</table>\n",
              "</div>"
            ],
            "text/plain": [
              "   Project ID  ... Total Units\n",
              "0       64390  ...           4\n",
              "1       64390  ...          10\n",
              "2       64390  ...          16\n",
              "3       64390  ...          17\n",
              "4       64390  ...          18\n",
              "\n",
              "[5 rows x 42 columns]"
            ]
          },
          "metadata": {
            "tags": []
          },
          "execution_count": 2
        }
      ]
    },
    {
      "cell_type": "code",
      "metadata": {
        "id": "2JEl5hHHSZ2v",
        "colab_type": "code",
        "outputId": "83f80f99-d628-42e6-aeac-355e3529cf34",
        "colab": {
          "base_uri": "https://localhost:8080/",
          "height": 221
        }
      },
      "source": [
        "df_l = df_b['Extremely Low Income Units']\n",
        "df_l"
      ],
      "execution_count": 0,
      "outputs": [
        {
          "output_type": "execute_result",
          "data": {
            "text/plain": [
              "0        0\n",
              "1        0\n",
              "2       15\n",
              "3       14\n",
              "4       17\n",
              "        ..\n",
              "4546     0\n",
              "4547     0\n",
              "4548     0\n",
              "4549     0\n",
              "4550     0\n",
              "Name: Extremely Low Income Units, Length: 4551, dtype: int64"
            ]
          },
          "metadata": {
            "tags": []
          },
          "execution_count": 3
        }
      ]
    },
    {
      "cell_type": "code",
      "metadata": {
        "id": "Tduc-2ZZTHqY",
        "colab_type": "code",
        "outputId": "2950bff0-657c-4a1b-bd59-b876bf3196c3",
        "colab": {
          "base_uri": "https://localhost:8080/",
          "height": 221
        }
      },
      "source": [
        "df_l.sort_values(ascending=False,axis=0)"
      ],
      "execution_count": 0,
      "outputs": [
        {
          "output_type": "execute_result",
          "data": {
            "text/plain": [
              "3891    429\n",
              "1031    250\n",
              "1490    247\n",
              "1379    241\n",
              "486     239\n",
              "       ... \n",
              "3004      0\n",
              "3003      0\n",
              "3002      0\n",
              "3000      0\n",
              "0         0\n",
              "Name: Extremely Low Income Units, Length: 4551, dtype: int64"
            ]
          },
          "metadata": {
            "tags": []
          },
          "execution_count": 5
        }
      ]
    },
    {
      "cell_type": "markdown",
      "metadata": {
        "id": "gPuh_VL5UXL-",
        "colab_type": "text"
      },
      "source": [
        "Top 5 neighborhoods with maximum number of extremely low income housing units"
      ]
    },
    {
      "cell_type": "code",
      "metadata": {
        "id": "oVb5BjDWTSXK",
        "colab_type": "code",
        "outputId": "c80044a1-c2b8-4f5e-ef94-2ac7286e9d75",
        "colab": {
          "base_uri": "https://localhost:8080/",
          "height": 445
        }
      },
      "source": [
        "df_b.iloc[[3891,1031,1490,1379,486]]"
      ],
      "execution_count": 0,
      "outputs": [
        {
          "output_type": "execute_result",
          "data": {
            "text/html": [
              "<div>\n",
              "<style scoped>\n",
              "    .dataframe tbody tr th:only-of-type {\n",
              "        vertical-align: middle;\n",
              "    }\n",
              "\n",
              "    .dataframe tbody tr th {\n",
              "        vertical-align: top;\n",
              "    }\n",
              "\n",
              "    .dataframe thead th {\n",
              "        text-align: right;\n",
              "    }\n",
              "</style>\n",
              "<table border=\"1\" class=\"dataframe\">\n",
              "  <thead>\n",
              "    <tr style=\"text-align: right;\">\n",
              "      <th></th>\n",
              "      <th>Project ID</th>\n",
              "      <th>Project Name</th>\n",
              "      <th>Program Group</th>\n",
              "      <th>Project Start Date</th>\n",
              "      <th>Project Completion Date</th>\n",
              "      <th>Building ID</th>\n",
              "      <th>Number</th>\n",
              "      <th>Street</th>\n",
              "      <th>Borough</th>\n",
              "      <th>Postcode</th>\n",
              "      <th>BBL</th>\n",
              "      <th>BIN</th>\n",
              "      <th>Community Board</th>\n",
              "      <th>Council District</th>\n",
              "      <th>Census Tract</th>\n",
              "      <th>NTA - Neighborhood Tabulation Area</th>\n",
              "      <th>Latitude</th>\n",
              "      <th>Longitude</th>\n",
              "      <th>Latitude (Internal)</th>\n",
              "      <th>Longitude (Internal)</th>\n",
              "      <th>Building Completion Date</th>\n",
              "      <th>Reporting Construction Type</th>\n",
              "      <th>Extended Affordability Only</th>\n",
              "      <th>Prevailing Wage Status</th>\n",
              "      <th>Extremely Low Income Units</th>\n",
              "      <th>Very Low Income Units</th>\n",
              "      <th>Low Income Units</th>\n",
              "      <th>Moderate Income Units</th>\n",
              "      <th>Middle Income Units</th>\n",
              "      <th>Other Income Units</th>\n",
              "      <th>Studio Units</th>\n",
              "      <th>1-BR Units</th>\n",
              "      <th>2-BR Units</th>\n",
              "      <th>3-BR Units</th>\n",
              "      <th>4-BR Units</th>\n",
              "      <th>5-BR Units</th>\n",
              "      <th>6-BR+ Units</th>\n",
              "      <th>Unknown-BR Units</th>\n",
              "      <th>Counted Rental Units</th>\n",
              "      <th>Counted Homeownership Units</th>\n",
              "      <th>All Counted Units</th>\n",
              "      <th>Total Units</th>\n",
              "    </tr>\n",
              "  </thead>\n",
              "  <tbody>\n",
              "    <tr>\n",
              "      <th>3891</th>\n",
              "      <td>55396</td>\n",
              "      <td>North Shore Plaza_ML</td>\n",
              "      <td>Multifamily Finance Program</td>\n",
              "      <td>12/18/2014</td>\n",
              "      <td>12/17/2016</td>\n",
              "      <td>746078.0</td>\n",
              "      <td>85</td>\n",
              "      <td>HOLLAND AVENUE</td>\n",
              "      <td>Staten Island</td>\n",
              "      <td>10303.0</td>\n",
              "      <td>5.012720e+09</td>\n",
              "      <td>5109139.0</td>\n",
              "      <td>SI-01</td>\n",
              "      <td>49.0</td>\n",
              "      <td>31902</td>\n",
              "      <td>SI12</td>\n",
              "      <td>40.638543</td>\n",
              "      <td>-74.171232</td>\n",
              "      <td>40.63910</td>\n",
              "      <td>-74.170235</td>\n",
              "      <td>12/17/2016</td>\n",
              "      <td>Preservation</td>\n",
              "      <td>No</td>\n",
              "      <td>Non Prevailing Wage</td>\n",
              "      <td>429</td>\n",
              "      <td>0</td>\n",
              "      <td>107</td>\n",
              "      <td>0</td>\n",
              "      <td>0</td>\n",
              "      <td>0</td>\n",
              "      <td>0</td>\n",
              "      <td>0</td>\n",
              "      <td>0</td>\n",
              "      <td>0</td>\n",
              "      <td>0</td>\n",
              "      <td>0</td>\n",
              "      <td>0</td>\n",
              "      <td>536</td>\n",
              "      <td>536</td>\n",
              "      <td>0</td>\n",
              "      <td>536</td>\n",
              "      <td>536</td>\n",
              "    </tr>\n",
              "    <tr>\n",
              "      <th>1031</th>\n",
              "      <td>65341</td>\n",
              "      <td>FRIENDSET APTS HDFC.HUDMF.FY18</td>\n",
              "      <td>Multifamily Finance Program</td>\n",
              "      <td>12/20/2018</td>\n",
              "      <td>NaN</td>\n",
              "      <td>336169.0</td>\n",
              "      <td>3528</td>\n",
              "      <td>MERMAID AVENUE</td>\n",
              "      <td>Brooklyn</td>\n",
              "      <td>11224.0</td>\n",
              "      <td>3.070460e+09</td>\n",
              "      <td>3189510.0</td>\n",
              "      <td>BK-13</td>\n",
              "      <td>47.0</td>\n",
              "      <td>342</td>\n",
              "      <td>BK21</td>\n",
              "      <td>40.574821</td>\n",
              "      <td>-74.001044</td>\n",
              "      <td>40.57430</td>\n",
              "      <td>-74.001127</td>\n",
              "      <td>NaN</td>\n",
              "      <td>Preservation</td>\n",
              "      <td>Yes</td>\n",
              "      <td>Non Prevailing Wage</td>\n",
              "      <td>250</td>\n",
              "      <td>4</td>\n",
              "      <td>1</td>\n",
              "      <td>4</td>\n",
              "      <td>0</td>\n",
              "      <td>0</td>\n",
              "      <td>0</td>\n",
              "      <td>241</td>\n",
              "      <td>18</td>\n",
              "      <td>0</td>\n",
              "      <td>0</td>\n",
              "      <td>0</td>\n",
              "      <td>0</td>\n",
              "      <td>0</td>\n",
              "      <td>259</td>\n",
              "      <td>0</td>\n",
              "      <td>259</td>\n",
              "      <td>259</td>\n",
              "    </tr>\n",
              "    <tr>\n",
              "      <th>1490</th>\n",
              "      <td>62209</td>\n",
              "      <td>ADEE TOWER APARTMENTS INC.HRP.FY18</td>\n",
              "      <td>Multifamily Finance Program</td>\n",
              "      <td>06/11/2018</td>\n",
              "      <td>NaN</td>\n",
              "      <td>52029.0</td>\n",
              "      <td>3000</td>\n",
              "      <td>BRONX PARK EAST</td>\n",
              "      <td>Bronx</td>\n",
              "      <td>10467.0</td>\n",
              "      <td>2.043360e+09</td>\n",
              "      <td>NaN</td>\n",
              "      <td>BX-27</td>\n",
              "      <td>15.0</td>\n",
              "      <td>334</td>\n",
              "      <td>BX99</td>\n",
              "      <td>40.856665</td>\n",
              "      <td>-73.875798</td>\n",
              "      <td>40.86224</td>\n",
              "      <td>-73.873047</td>\n",
              "      <td>NaN</td>\n",
              "      <td>Preservation</td>\n",
              "      <td>No</td>\n",
              "      <td>Non Prevailing Wage</td>\n",
              "      <td>247</td>\n",
              "      <td>45</td>\n",
              "      <td>0</td>\n",
              "      <td>0</td>\n",
              "      <td>0</td>\n",
              "      <td>0</td>\n",
              "      <td>0</td>\n",
              "      <td>3</td>\n",
              "      <td>96</td>\n",
              "      <td>193</td>\n",
              "      <td>0</td>\n",
              "      <td>0</td>\n",
              "      <td>0</td>\n",
              "      <td>0</td>\n",
              "      <td>0</td>\n",
              "      <td>292</td>\n",
              "      <td>292</td>\n",
              "      <td>292</td>\n",
              "    </tr>\n",
              "    <tr>\n",
              "      <th>1379</th>\n",
              "      <td>67426</td>\n",
              "      <td>RUPPERT HOUSE</td>\n",
              "      <td>Multifamily Finance Program</td>\n",
              "      <td>06/27/2018</td>\n",
              "      <td>06/27/2018</td>\n",
              "      <td>804760.0</td>\n",
              "      <td>222</td>\n",
              "      <td>EAST 93 STREET</td>\n",
              "      <td>Manhattan</td>\n",
              "      <td>10128.0</td>\n",
              "      <td>1.015380e+09</td>\n",
              "      <td>1089873.0</td>\n",
              "      <td>MN-08</td>\n",
              "      <td>5.0</td>\n",
              "      <td>154</td>\n",
              "      <td>MN32</td>\n",
              "      <td>40.782965</td>\n",
              "      <td>-73.950061</td>\n",
              "      <td>40.78231</td>\n",
              "      <td>-73.949469</td>\n",
              "      <td>06/27/2018</td>\n",
              "      <td>Preservation</td>\n",
              "      <td>Yes</td>\n",
              "      <td>Non Prevailing Wage</td>\n",
              "      <td>241</td>\n",
              "      <td>163</td>\n",
              "      <td>0</td>\n",
              "      <td>0</td>\n",
              "      <td>0</td>\n",
              "      <td>1</td>\n",
              "      <td>84</td>\n",
              "      <td>163</td>\n",
              "      <td>158</td>\n",
              "      <td>0</td>\n",
              "      <td>0</td>\n",
              "      <td>0</td>\n",
              "      <td>0</td>\n",
              "      <td>0</td>\n",
              "      <td>0</td>\n",
              "      <td>405</td>\n",
              "      <td>405</td>\n",
              "      <td>405</td>\n",
              "    </tr>\n",
              "    <tr>\n",
              "      <th>486</th>\n",
              "      <td>68177</td>\n",
              "      <td>CAPITOL APARTMENTS HDFC.HUDMF</td>\n",
              "      <td>Multifamily Finance Program</td>\n",
              "      <td>06/28/2019</td>\n",
              "      <td>06/28/2019</td>\n",
              "      <td>4540.0</td>\n",
              "      <td>834</td>\n",
              "      <td>8 AVENUE</td>\n",
              "      <td>Manhattan</td>\n",
              "      <td>10019.0</td>\n",
              "      <td>1.010220e+09</td>\n",
              "      <td>1024813.0</td>\n",
              "      <td>MN-05</td>\n",
              "      <td>3.0</td>\n",
              "      <td>131</td>\n",
              "      <td>MN17</td>\n",
              "      <td>40.762505</td>\n",
              "      <td>-73.985936</td>\n",
              "      <td>40.76253</td>\n",
              "      <td>-73.985517</td>\n",
              "      <td>06/28/2019</td>\n",
              "      <td>Preservation</td>\n",
              "      <td>Yes</td>\n",
              "      <td>Non Prevailing Wage</td>\n",
              "      <td>239</td>\n",
              "      <td>6</td>\n",
              "      <td>2</td>\n",
              "      <td>3</td>\n",
              "      <td>27</td>\n",
              "      <td>1</td>\n",
              "      <td>88</td>\n",
              "      <td>190</td>\n",
              "      <td>0</td>\n",
              "      <td>0</td>\n",
              "      <td>0</td>\n",
              "      <td>0</td>\n",
              "      <td>0</td>\n",
              "      <td>0</td>\n",
              "      <td>278</td>\n",
              "      <td>0</td>\n",
              "      <td>278</td>\n",
              "      <td>278</td>\n",
              "    </tr>\n",
              "  </tbody>\n",
              "</table>\n",
              "</div>"
            ],
            "text/plain": [
              "      Project ID  ... Total Units\n",
              "3891       55396  ...         536\n",
              "1031       65341  ...         259\n",
              "1490       62209  ...         292\n",
              "1379       67426  ...         405\n",
              "486        68177  ...         278\n",
              "\n",
              "[5 rows x 42 columns]"
            ]
          },
          "metadata": {
            "tags": []
          },
          "execution_count": 9
        }
      ]
    },
    {
      "cell_type": "markdown",
      "metadata": {
        "id": "00xd8QC0VFjn",
        "colab_type": "text"
      },
      "source": [
        "Hence, people who are **tight on a budget** should look for apartments in these 5 neighborhoods."
      ]
    },
    {
      "cell_type": "markdown",
      "metadata": {
        "id": "3jR4z8IvBS3v",
        "colab_type": "text"
      },
      "source": [
        "Map displaying Top 5 neighborhoods with highest number of **Extremely Low Income Units**"
      ]
    },
    {
      "cell_type": "code",
      "metadata": {
        "id": "2dxFn8eoBcLx",
        "colab_type": "code",
        "colab": {
          "base_uri": "https://localhost:8080/",
          "height": 674
        },
        "outputId": "f136f636-33c6-4f01-ded3-1294e660c3e9"
      },
      "source": [
        "e = folium.Map(\n",
        "    location=[latitude,longitude],\n",
        "    zoom_start=10,\n",
        "    \n",
        ")\n",
        "\n",
        "tooltip = 'Click me!'\n",
        "\n",
        "folium.Marker([40.63910,-74.170235], popup='<b>Annadale-Huguenot-Princes Bay-Eltingville</b>', tooltip=tooltip).add_to(e)\n",
        "folium.Marker([40.574821,-74.001044], popup='<b>Seagate-Coney Island</b>', tooltip=tooltip).add_to(e)\n",
        "folium.Marker([40.856665,-73.875798], popup='<b>park-cemetery-etc-Bronx</b>', tooltip=tooltip).add_to(e)\n",
        "folium.Marker([40.782965,-73.950061], popup='<b>Yorkville</b>', tooltip=tooltip).add_to(e)\n",
        "folium.Marker([40.762505,-73.985936], popup='<b>Midtown-Midtown South</b>', tooltip=tooltip).add_to(e)\n",
        "e"
      ],
      "execution_count": 27,
      "outputs": [
        {
          "output_type": "execute_result",
          "data": {
            "text/html": [
              "<div style=\"width:100%;\"><div style=\"position:relative;width:100%;height:0;padding-bottom:60%;\"><iframe src=\"about:blank\" style=\"position:absolute;width:100%;height:100%;left:0;top:0;border:none !important;\" data-html=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 onload=\"this.contentDocument.open();this.contentDocument.write(atob(this.getAttribute('data-html')));this.contentDocument.close();\" allowfullscreen webkitallowfullscreen mozallowfullscreen></iframe></div></div>"
            ],
            "text/plain": [
              "<folium.folium.Map at 0x7fce74d48ac8>"
            ]
          },
          "metadata": {
            "tags": []
          },
          "execution_count": 27
        }
      ]
    },
    {
      "cell_type": "code",
      "metadata": {
        "id": "l_CA1xCQTz77",
        "colab_type": "code",
        "outputId": "ed3b0333-b728-4ee3-9953-2b06bf296330",
        "colab": {
          "base_uri": "https://localhost:8080/",
          "height": 221
        }
      },
      "source": [
        "df_m = df_b['Middle Income Units']\n",
        "df_m.sort_values(ascending=False, axis=0)"
      ],
      "execution_count": 0,
      "outputs": [
        {
          "output_type": "execute_result",
          "data": {
            "text/plain": [
              "2466    448\n",
              "4267    422\n",
              "2482    352\n",
              "4082    343\n",
              "1010    284\n",
              "       ... \n",
              "2896      0\n",
              "2894      0\n",
              "2893      0\n",
              "2887      0\n",
              "0         0\n",
              "Name: Middle Income Units, Length: 4551, dtype: int64"
            ]
          },
          "metadata": {
            "tags": []
          },
          "execution_count": 10
        }
      ]
    },
    {
      "cell_type": "markdown",
      "metadata": {
        "id": "O1s896lQVzG8",
        "colab_type": "text"
      },
      "source": [
        "Top 5 neighborhood with **maximum number of Middle Income Housing Units**"
      ]
    },
    {
      "cell_type": "code",
      "metadata": {
        "id": "zqHSa1MAVfWo",
        "colab_type": "code",
        "outputId": "1b1016e6-9324-4eff-cf3e-cf06db3365f3",
        "colab": {
          "base_uri": "https://localhost:8080/",
          "height": 479
        }
      },
      "source": [
        "df_b.iloc[[2466,4267,2482,4082,1010]]"
      ],
      "execution_count": 0,
      "outputs": [
        {
          "output_type": "execute_result",
          "data": {
            "text/html": [
              "<div>\n",
              "<style scoped>\n",
              "    .dataframe tbody tr th:only-of-type {\n",
              "        vertical-align: middle;\n",
              "    }\n",
              "\n",
              "    .dataframe tbody tr th {\n",
              "        vertical-align: top;\n",
              "    }\n",
              "\n",
              "    .dataframe thead th {\n",
              "        text-align: right;\n",
              "    }\n",
              "</style>\n",
              "<table border=\"1\" class=\"dataframe\">\n",
              "  <thead>\n",
              "    <tr style=\"text-align: right;\">\n",
              "      <th></th>\n",
              "      <th>Project ID</th>\n",
              "      <th>Project Name</th>\n",
              "      <th>Program Group</th>\n",
              "      <th>Project Start Date</th>\n",
              "      <th>Project Completion Date</th>\n",
              "      <th>Building ID</th>\n",
              "      <th>Number</th>\n",
              "      <th>Street</th>\n",
              "      <th>Borough</th>\n",
              "      <th>Postcode</th>\n",
              "      <th>BBL</th>\n",
              "      <th>BIN</th>\n",
              "      <th>Community Board</th>\n",
              "      <th>Council District</th>\n",
              "      <th>Census Tract</th>\n",
              "      <th>NTA - Neighborhood Tabulation Area</th>\n",
              "      <th>Latitude</th>\n",
              "      <th>Longitude</th>\n",
              "      <th>Latitude (Internal)</th>\n",
              "      <th>Longitude (Internal)</th>\n",
              "      <th>Building Completion Date</th>\n",
              "      <th>Reporting Construction Type</th>\n",
              "      <th>Extended Affordability Only</th>\n",
              "      <th>Prevailing Wage Status</th>\n",
              "      <th>Extremely Low Income Units</th>\n",
              "      <th>Very Low Income Units</th>\n",
              "      <th>Low Income Units</th>\n",
              "      <th>Moderate Income Units</th>\n",
              "      <th>Middle Income Units</th>\n",
              "      <th>Other Income Units</th>\n",
              "      <th>Studio Units</th>\n",
              "      <th>1-BR Units</th>\n",
              "      <th>2-BR Units</th>\n",
              "      <th>3-BR Units</th>\n",
              "      <th>4-BR Units</th>\n",
              "      <th>5-BR Units</th>\n",
              "      <th>6-BR+ Units</th>\n",
              "      <th>Unknown-BR Units</th>\n",
              "      <th>Counted Rental Units</th>\n",
              "      <th>Counted Homeownership Units</th>\n",
              "      <th>All Counted Units</th>\n",
              "      <th>Total Units</th>\n",
              "    </tr>\n",
              "  </thead>\n",
              "  <tbody>\n",
              "    <tr>\n",
              "      <th>2466</th>\n",
              "      <td>52774</td>\n",
              "      <td>JAMAICA CROSSING (HIGH-RISE)</td>\n",
              "      <td>Multifamily Finance Program</td>\n",
              "      <td>12/22/2016</td>\n",
              "      <td>NaN</td>\n",
              "      <td>974242.0</td>\n",
              "      <td>147-40</td>\n",
              "      <td>ARCHER AVENUE</td>\n",
              "      <td>Queens</td>\n",
              "      <td>11435.0</td>\n",
              "      <td>4.099980e+09</td>\n",
              "      <td>4214004.0</td>\n",
              "      <td>QN-12</td>\n",
              "      <td>27.0</td>\n",
              "      <td>208</td>\n",
              "      <td>QN61</td>\n",
              "      <td>40.700836</td>\n",
              "      <td>-73.806551</td>\n",
              "      <td>40.70053</td>\n",
              "      <td>-73.806783</td>\n",
              "      <td>NaN</td>\n",
              "      <td>New Construction</td>\n",
              "      <td>No</td>\n",
              "      <td>Non Prevailing Wage</td>\n",
              "      <td>0</td>\n",
              "      <td>0</td>\n",
              "      <td>90</td>\n",
              "      <td>0</td>\n",
              "      <td>448</td>\n",
              "      <td>1</td>\n",
              "      <td>98</td>\n",
              "      <td>202</td>\n",
              "      <td>217</td>\n",
              "      <td>22</td>\n",
              "      <td>0</td>\n",
              "      <td>0</td>\n",
              "      <td>0</td>\n",
              "      <td>0</td>\n",
              "      <td>539</td>\n",
              "      <td>0</td>\n",
              "      <td>539</td>\n",
              "      <td>539</td>\n",
              "    </tr>\n",
              "    <tr>\n",
              "      <th>4267</th>\n",
              "      <td>55506</td>\n",
              "      <td>Cadman Tower</td>\n",
              "      <td>Multifamily Finance Program</td>\n",
              "      <td>06/26/2014</td>\n",
              "      <td>06/26/2014</td>\n",
              "      <td>221260.0</td>\n",
              "      <td>79</td>\n",
              "      <td>CLARK STREET</td>\n",
              "      <td>Brooklyn</td>\n",
              "      <td>11201.0</td>\n",
              "      <td>3.002320e+09</td>\n",
              "      <td>3001727.0</td>\n",
              "      <td>BK-02</td>\n",
              "      <td>33.0</td>\n",
              "      <td>1</td>\n",
              "      <td>BK09</td>\n",
              "      <td>40.697436</td>\n",
              "      <td>-73.992881</td>\n",
              "      <td>40.69761</td>\n",
              "      <td>-73.992171</td>\n",
              "      <td>06/26/2014</td>\n",
              "      <td>Preservation</td>\n",
              "      <td>No</td>\n",
              "      <td>Non Prevailing Wage</td>\n",
              "      <td>0</td>\n",
              "      <td>0</td>\n",
              "      <td>0</td>\n",
              "      <td>0</td>\n",
              "      <td>422</td>\n",
              "      <td>0</td>\n",
              "      <td>0</td>\n",
              "      <td>0</td>\n",
              "      <td>0</td>\n",
              "      <td>0</td>\n",
              "      <td>0</td>\n",
              "      <td>0</td>\n",
              "      <td>0</td>\n",
              "      <td>422</td>\n",
              "      <td>0</td>\n",
              "      <td>422</td>\n",
              "      <td>422</td>\n",
              "      <td>422</td>\n",
              "    </tr>\n",
              "    <tr>\n",
              "      <th>2482</th>\n",
              "      <td>63371</td>\n",
              "      <td>Scott Tower (HDC)</td>\n",
              "      <td>Multifamily Finance Program</td>\n",
              "      <td>12/20/2016</td>\n",
              "      <td>NaN</td>\n",
              "      <td>101663.0</td>\n",
              "      <td>3400</td>\n",
              "      <td>PAUL AVENUE</td>\n",
              "      <td>Bronx</td>\n",
              "      <td>10468.0</td>\n",
              "      <td>2.032510e+09</td>\n",
              "      <td>2015444.0</td>\n",
              "      <td>BX-07</td>\n",
              "      <td>11.0</td>\n",
              "      <td>409</td>\n",
              "      <td>BX28</td>\n",
              "      <td>40.877190</td>\n",
              "      <td>-73.889569</td>\n",
              "      <td>40.87744</td>\n",
              "      <td>-73.888885</td>\n",
              "      <td>NaN</td>\n",
              "      <td>Preservation</td>\n",
              "      <td>No</td>\n",
              "      <td>Non Prevailing Wage</td>\n",
              "      <td>0</td>\n",
              "      <td>0</td>\n",
              "      <td>0</td>\n",
              "      <td>0</td>\n",
              "      <td>352</td>\n",
              "      <td>0</td>\n",
              "      <td>2</td>\n",
              "      <td>60</td>\n",
              "      <td>206</td>\n",
              "      <td>84</td>\n",
              "      <td>0</td>\n",
              "      <td>0</td>\n",
              "      <td>0</td>\n",
              "      <td>0</td>\n",
              "      <td>0</td>\n",
              "      <td>352</td>\n",
              "      <td>352</td>\n",
              "      <td>352</td>\n",
              "    </tr>\n",
              "    <tr>\n",
              "      <th>4082</th>\n",
              "      <td>55511</td>\n",
              "      <td>Arverne/Nordak</td>\n",
              "      <td>Multifamily Finance Program</td>\n",
              "      <td>09/23/2014</td>\n",
              "      <td>NaN</td>\n",
              "      <td>811201.0</td>\n",
              "      <td>353</td>\n",
              "      <td>BEACH 57 STREET</td>\n",
              "      <td>Queens</td>\n",
              "      <td>11692.0</td>\n",
              "      <td>4.158950e+09</td>\n",
              "      <td>4436427.0</td>\n",
              "      <td>QN-14</td>\n",
              "      <td>31.0</td>\n",
              "      <td>97204</td>\n",
              "      <td>QN12</td>\n",
              "      <td>40.593738</td>\n",
              "      <td>-73.787140</td>\n",
              "      <td>40.59363</td>\n",
              "      <td>-73.787990</td>\n",
              "      <td>NaN</td>\n",
              "      <td>Preservation</td>\n",
              "      <td>No</td>\n",
              "      <td>Non Prevailing Wage</td>\n",
              "      <td>0</td>\n",
              "      <td>0</td>\n",
              "      <td>0</td>\n",
              "      <td>0</td>\n",
              "      <td>343</td>\n",
              "      <td>0</td>\n",
              "      <td>0</td>\n",
              "      <td>0</td>\n",
              "      <td>0</td>\n",
              "      <td>0</td>\n",
              "      <td>0</td>\n",
              "      <td>0</td>\n",
              "      <td>0</td>\n",
              "      <td>343</td>\n",
              "      <td>0</td>\n",
              "      <td>343</td>\n",
              "      <td>343</td>\n",
              "      <td>343</td>\n",
              "    </tr>\n",
              "    <tr>\n",
              "      <th>1010</th>\n",
              "      <td>61931</td>\n",
              "      <td>HUNTERS POINT SOUTH PARCEL C -NORTH TOWER</td>\n",
              "      <td>Multifamily Finance Program</td>\n",
              "      <td>12/26/2018</td>\n",
              "      <td>NaN</td>\n",
              "      <td>981672.0</td>\n",
              "      <td>52-03</td>\n",
              "      <td>CENTER BOULEVARD</td>\n",
              "      <td>Queens</td>\n",
              "      <td>11101.0</td>\n",
              "      <td>4.000060e+09</td>\n",
              "      <td>NaN</td>\n",
              "      <td>QN-02</td>\n",
              "      <td>26.0</td>\n",
              "      <td>1</td>\n",
              "      <td>QN31</td>\n",
              "      <td>40.742166</td>\n",
              "      <td>-73.960033</td>\n",
              "      <td>40.74191</td>\n",
              "      <td>-73.959553</td>\n",
              "      <td>NaN</td>\n",
              "      <td>New Construction</td>\n",
              "      <td>No</td>\n",
              "      <td>Non Prevailing Wage</td>\n",
              "      <td>0</td>\n",
              "      <td>160</td>\n",
              "      <td>0</td>\n",
              "      <td>90</td>\n",
              "      <td>284</td>\n",
              "      <td>1</td>\n",
              "      <td>174</td>\n",
              "      <td>145</td>\n",
              "      <td>216</td>\n",
              "      <td>0</td>\n",
              "      <td>0</td>\n",
              "      <td>0</td>\n",
              "      <td>0</td>\n",
              "      <td>0</td>\n",
              "      <td>535</td>\n",
              "      <td>0</td>\n",
              "      <td>535</td>\n",
              "      <td>800</td>\n",
              "    </tr>\n",
              "  </tbody>\n",
              "</table>\n",
              "</div>"
            ],
            "text/plain": [
              "      Project ID  ... Total Units\n",
              "2466       52774  ...         539\n",
              "4267       55506  ...         422\n",
              "2482       63371  ...         352\n",
              "4082       55511  ...         343\n",
              "1010       61931  ...         800\n",
              "\n",
              "[5 rows x 42 columns]"
            ]
          },
          "metadata": {
            "tags": []
          },
          "execution_count": 11
        }
      ]
    },
    {
      "cell_type": "markdown",
      "metadata": {
        "id": "-_MJ76g_mkcv",
        "colab_type": "text"
      },
      "source": [
        "Therefore, people who are **willing to pay above than average rent**, should look for apartments in these 5 neighbourhoods."
      ]
    },
    {
      "cell_type": "markdown",
      "metadata": {
        "id": "XimMMhLeCgqv",
        "colab_type": "text"
      },
      "source": [
        "Map displaying Top 5 Neighborhoods with Highest Number of **Middle Income Housing Units**"
      ]
    },
    {
      "cell_type": "code",
      "metadata": {
        "id": "Va2xJF2qVvEv",
        "colab_type": "code",
        "colab": {
          "base_uri": "https://localhost:8080/",
          "height": 674
        },
        "outputId": "30ab5b48-7b65-4917-e330-83e96682e537"
      },
      "source": [
        "i = folium.Map(\n",
        "    location=[latitude,longitude],\n",
        "    zoom_start=10,\n",
        "    \n",
        ")\n",
        "\n",
        "tooltip = 'Click me!'\n",
        "\n",
        "folium.Marker([40.700836,-73.806551], popup='<b>Hammels-Arverne-Edgemere</b>', tooltip=tooltip).add_to(i)\n",
        "folium.Marker([40.697436,-73.992881], popup='<b>Brooklyn</b>', tooltip=tooltip).add_to(i)\n",
        "folium.Marker([40.877190,-73.889569], popup='<b>Bronxdale</b>', tooltip=tooltip).add_to(i)\n",
        "folium.Marker([40.593738,-73.787140], popup='<b>Queens</b>', tooltip=tooltip).add_to(i)\n",
        "folium.Marker([40.742166,-73.960033], popup='<b>Springfield Gardens North</b>', tooltip=tooltip).add_to(i)\n",
        "i"
      ],
      "execution_count": 28,
      "outputs": [
        {
          "output_type": "execute_result",
          "data": {
            "text/html": [
              "<div style=\"width:100%;\"><div style=\"position:relative;width:100%;height:0;padding-bottom:60%;\"><iframe src=\"about:blank\" style=\"position:absolute;width:100%;height:100%;left:0;top:0;border:none !important;\" data-html=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 onload=\"this.contentDocument.open();this.contentDocument.write(atob(this.getAttribute('data-html')));this.contentDocument.close();\" allowfullscreen webkitallowfullscreen mozallowfullscreen></iframe></div></div>"
            ],
            "text/plain": [
              "<folium.folium.Map at 0x7fce74cde128>"
            ]
          },
          "metadata": {
            "tags": []
          },
          "execution_count": 28
        }
      ]
    },
    {
      "cell_type": "markdown",
      "metadata": {
        "id": "T99ZUjoIDd6k",
        "colab_type": "text"
      },
      "source": [
        "## **Methodology**"
      ]
    },
    {
      "cell_type": "markdown",
      "metadata": {
        "id": "p95P8BpuDl0D",
        "colab_type": "text"
      },
      "source": [
        "In this project, our main aim is to shortlist neighborhoods as per the requirements of the prospective tenants. Some of the classifying factors include the rent, the number of schools, the number of restaurants etc.\n",
        "\n",
        "Using Foursquare API data, we have first found the **total number of schools and restaurants** in each neighborhood in New York. \n",
        "\n",
        "Then, we have shortlisted the areas having the maximum number of schools and restaurants **based on their postal codes in order to maintain accuracy**.\n",
        "\n",
        "Next, we have performed analysis on the NYC Housing Data and classified neighborhoods on the basis of how many extremely low income units and how many middle income units they have.\n",
        "\n",
        "Finally, we have **represented all these shortlisted locations on the New York map according to each criteria respectively**.\n",
        "\n",
        "\n"
      ]
    },
    {
      "cell_type": "markdown",
      "metadata": {
        "id": "25ZvCqoKYx7I",
        "colab_type": "text"
      },
      "source": [
        "## **Results and Discussion**"
      ]
    },
    {
      "cell_type": "markdown",
      "metadata": {
        "id": "MjXFHb3SY2zT",
        "colab_type": "text"
      },
      "source": [
        "Upon analysing all the datasets we observe that there many neighborhoods in New York, each with its pros and cons. \n",
        "\n",
        "Neighborhood with the **largest population**: Upper West Side\n",
        "\n",
        "Neighborhood with the **largest area**: New Springville-Bloomfield-Travis\n",
        "\n",
        "For **people on a budget**, the following neighborhoods are best suited:\n",
        "\n",
        "\n",
        "\n",
        "1.   Annadale-Huguenot-Princes Bay-Eltingville\n",
        "2.   Seagate-Coney Island\n",
        "3.   Park-cemetery-etc-Bronx\n",
        "4.   Yorkville\n",
        "5.   Midtown-Midtown South\n",
        "\n",
        "\n",
        "Prospective tenants **willing to pay above average rents** should look for an apartment in the following neighborhoods:\n",
        "\n",
        "\n",
        "\n",
        "1.   Hammels-Arverne-Edgemere\n",
        "2.   Brooklyn\n",
        "3.   Bronxdale\n",
        "4.   Queens\n",
        "5.   Springfield Gardens North\n",
        "\n",
        "\n",
        "\n",
        "\n",
        "We see that for **prospective tenants with kids**, the following 3 neighborhoods are the best suited:\n",
        "\n",
        "\n",
        "1.   City Hall\n",
        "2.   Manhattan\n",
        "3.   Downtown\n",
        "\n",
        "For people looking for an apartment **with alot of restaurants nearby**, the following neighborhoods are best suited:\n",
        "\n",
        "\n",
        "\n",
        "1.   Tribeca\n",
        "2.   Lower Manhattan\n",
        "3.   Downtown\n",
        "\n",
        "\n",
        "\n",
        "\n",
        "\n"
      ]
    },
    {
      "cell_type": "markdown",
      "metadata": {
        "id": "yKqOx6F2dxX0",
        "colab_type": "text"
      },
      "source": [
        "## **Conclusion**"
      ]
    },
    {
      "cell_type": "markdown",
      "metadata": {
        "id": "z6_scJxsbzGV",
        "colab_type": "text"
      },
      "source": [
        "The purpose of this project is to help prospective tenants find the right neighborhood for themselves. \n",
        "\n",
        "We have shortlisted a few neighborhoods according to the 3 criterias; schools, restaurants and budget. There are many more classifying criteria which can be used if the datasets for the same are available.\n",
        "\n",
        "This is **not an exhaustive analysis** as the definition of the Best Neighborhood to Live In is different for every individual and the data for every criteria is not accessible. \n",
        "\n",
        "The final decision on an optimal neighborhood can only be made by the prospective tenant after taking into consideration other factors such as proximity to public transport facilities, healthcare facilities, cleanliness, climate etc.\n",
        "\n",
        "This analysis will surely help the prospective tenants by giving them a rough outline and **a place to start their search of an apartment from**.\n",
        "\n"
      ]
    }
  ]
}